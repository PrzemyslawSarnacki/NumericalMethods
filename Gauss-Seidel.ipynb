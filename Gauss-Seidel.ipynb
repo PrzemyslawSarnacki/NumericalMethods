{
 "cells": [
  {
   "cell_type": "markdown",
   "metadata": {},
   "source": [
    "<a href=\"https://colab.research.google.com/github/PrzemyslawSarnacki/NumericalMethods/blob/master/Gauss-Seidel.ipynb\" target=\"_parent\">\r\n",
    "  <img src=\"https://colab.research.google.com/assets/colab-badge.svg\" alt=\"Open In Colab\"/>\r\n",
    "</a> "
   ]
  },
  {
   "cell_type": "code",
   "execution_count": 4,
   "metadata": {},
   "outputs": [],
   "source": [
    "import numpy as np"
   ]
  },
  {
   "cell_type": "markdown",
   "metadata": {},
   "source": [
    "Implementujemy metodę Gaussa-Seidel'a w postaci funkcji"
   ]
  },
  {
   "cell_type": "code",
   "execution_count": 63,
   "metadata": {},
   "outputs": [],
   "source": [
    "def seidel(matrix, b, N=5):\r\n",
    "    \"\"\"\r\n",
    "    jacobi iterative method in function\r\n",
    "    \"\"\"\r\n",
    "    x=np.zeros_like(b)\r\n",
    "    m, n = matrix.shape\r\n",
    "    # Iterate N number of times\r\n",
    "    for _ in range(N):\r\n",
    "        # Iterate through rows\r\n",
    "        for j in range(m):\r\n",
    "            # we will slice matrices at appropriate indices\r\n",
    "            m1 = np.matmul(matrix[j, :j], x[:j])\r\n",
    "            m2 = np.matmul(matrix[j, j + 1 :], x[j + 1 :])\r\n",
    "            x[j] = (b[j] - m1 - m2) / matrix[j, j]\r\n",
    "    return x\r\n",
    "\r\n"
   ]
  },
  {
   "cell_type": "markdown",
   "metadata": {},
   "source": [
    "Sprawdźmy jaki powinien być prawidłowy wynik implementacji (użyjemy wbudowanej funkcji z biblioteki numpy)"
   ]
  },
  {
   "cell_type": "code",
   "execution_count": 32,
   "metadata": {},
   "outputs": [
    {
     "data": {
      "text/plain": "array([ 6.96156056,  2.22112253, -1.15414086,  2.07202605])"
     },
     "execution_count": 32,
     "metadata": {},
     "output_type": "execute_result"
    }
   ],
   "source": [
    "a = np.array([\r\n",
    "[4,\t-1,\t-0.2,\t2],\r\n",
    "[-1,\t5,\t0,\t-2],\r\n",
    "[0.2,\t1,\t10,\t-1],\r\n",
    "[0,\t-2,\t-1,\t4],\r\n",
    "], float)\r\n",
    "b = np.array([30, 0, -10, 5], float)\r\n",
    "\r\n",
    "\r\n",
    "np.linalg.solve(a, b)"
   ]
  },
  {
   "cell_type": "code",
   "execution_count": 65,
   "metadata": {},
   "outputs": [
    {
     "data": {
      "text/plain": "array([-1.])"
     },
     "execution_count": 65,
     "metadata": {},
     "output_type": "execute_result"
    }
   ],
   "source": [
    "a[1,:1]"
   ]
  },
  {
   "cell_type": "code",
   "execution_count": 64,
   "metadata": {},
   "outputs": [
    {
     "data": {
      "text/plain": "array([ 0., -2.])"
     },
     "execution_count": 64,
     "metadata": {},
     "output_type": "execute_result"
    }
   ],
   "source": [
    "a[1, 2:]"
   ]
  },
  {
   "cell_type": "markdown",
   "metadata": {},
   "source": [
    "Wywołanie funkcji zawierającej własną implementację - jak widzimy wynik jest zbliżony i przy większej liczbie iteracji staje się coraz dokładniejszy"
   ]
  },
  {
   "cell_type": "code",
   "execution_count": 35,
   "metadata": {},
   "outputs": [
    {
     "data": {
      "text/plain": "array([ 6.96164262,  2.21960678, -1.15437397,  2.0712099 ])"
     },
     "execution_count": 35,
     "metadata": {},
     "output_type": "execute_result"
    }
   ],
   "source": [
    "a = np.array([\r\n",
    "[4, -1, -0.2, 2],\r\n",
    "[-1, 5, 0, -2],\r\n",
    "[0.2, 1, 10, -1],\r\n",
    "[0, -2, -1, 4],\r\n",
    "], float)\r\n",
    "b = np.array([30, 0, -10, 5], float)\r\n",
    "\r\n",
    "\r\n",
    "seidel(a, b)"
   ]
  },
  {
   "cell_type": "code",
   "execution_count": 56,
   "metadata": {},
   "outputs": [
    {
     "data": {
      "text/plain": "array([-1.])"
     },
     "execution_count": 56,
     "metadata": {},
     "output_type": "execute_result"
    }
   ],
   "source": [
    "a[1, :1]"
   ]
  },
  {
   "cell_type": "code",
   "execution_count": 30,
   "metadata": {},
   "outputs": [
    {
     "data": {
      "text/plain": "array([ 6.96156073,  2.22111941, -1.15414134,  2.07202437])"
     },
     "execution_count": 30,
     "metadata": {},
     "output_type": "execute_result"
    }
   ],
   "source": [
    "a = np.array([\r\n",
    "[4, -1, -0.2, 2],\r\n",
    "[-1, 5, 0, -2],\r\n",
    "[0.2, 1, 10, -1],\r\n",
    "[0, -2, -1, 4],\r\n",
    "], float)\r\n",
    "b = np.array([30, 0, -10, 5], float)\r\n",
    "\r\n",
    "\r\n",
    "seidel(a, b, N=10)"
   ]
  },
  {
   "cell_type": "code",
   "execution_count": 31,
   "metadata": {},
   "outputs": [
    {
     "data": {
      "text/plain": "array([ 6.96156056,  2.22112253, -1.15414086,  2.07202605])"
     },
     "execution_count": 31,
     "metadata": {},
     "output_type": "execute_result"
    }
   ],
   "source": [
    "a = np.array([\r\n",
    "[4, -1, -0.2, 2],\r\n",
    "[-1, 5, 0, -2],\r\n",
    "[0.2, 1, 10, -1],\r\n",
    "[0, -2, -1, 4],\r\n",
    "], float)\r\n",
    "b = np.array([30, 0, -10, 5], float)\r\n",
    "\r\n",
    "\r\n",
    "seidel(a, b, N=100)"
   ]
  }
 ],
 "metadata": {
  "kernelspec": {
   "display_name": "Python 3",
   "language": "python",
   "name": "python3"
  },
  "language_info": {
   "codemirror_mode": {
    "name": "ipython",
    "version": 3
   },
   "file_extension": ".py",
   "mimetype": "text/x-python",
   "name": "python",
   "nbconvert_exporter": "python",
   "pygments_lexer": "ipython3",
   "version": "3.8.2"
  },
  "orig_nbformat": 2
 },
 "nbformat": 4,
 "nbformat_minor": 2
}