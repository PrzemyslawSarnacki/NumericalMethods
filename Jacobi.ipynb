{
 "cells": [
  {
   "cell_type": "markdown",
   "metadata": {},
   "source": [
    "<a href=\"https://colab.research.google.com/github/PrzemyslawSarnacki/NumericalMethods/blob/master/Jacobi.ipynb\" target=\"_parent\">\r\n",
    "  <img src=\"https://colab.research.google.com/assets/colab-badge.svg\" alt=\"Open In Colab\"/>\r\n",
    "</a> "
   ]
  },
  {
   "cell_type": "code",
   "execution_count": 2,
   "metadata": {},
   "outputs": [],
   "source": [
    "import numpy as np"
   ]
  },
  {
   "cell_type": "markdown",
   "metadata": {},
   "source": [
    "Implementujemy metodę eliminacji Gaussa w postaci funkcji"
   ]
  },
  {
   "cell_type": "code",
   "execution_count": 5,
   "metadata": {},
   "outputs": [],
   "source": [
    "def jacobi(matrix, b, N=5):\r\n",
    "    \"\"\"\r\n",
    "    jacobi iterative method in function\r\n",
    "    \"\"\"\r\n",
    "    # N is numer of interations and it's default value is 5\r\n",
    "    # default choices will be just zeros\r\n",
    "    x=np.zeros(b.shape)\r\n",
    "    # We will Create diagonal array\r\n",
    "    d = np.diag(matrix)\r\n",
    "    # We are substracting diagonal matrix from input matrix \r\n",
    "    r = matrix - np.diagflat(d)\r\n",
    "\r\n",
    "    # Loop for N times \r\n",
    "    for _ in range(N):\r\n",
    "        x = (b - np.dot(r,x)) / d\r\n",
    "    return x\r\n"
   ]
  },
  {
   "cell_type": "markdown",
   "metadata": {},
   "source": [
    "Sprawdźmy jaki powinien być prawidłowy wynik implementacji (użyjemy wbudowanej funkcji z biblioteki numpy)"
   ]
  },
  {
   "cell_type": "code",
   "execution_count": 15,
   "metadata": {},
   "outputs": [
    {
     "data": {
      "text/plain": "array([2., 3.])"
     },
     "execution_count": 15,
     "metadata": {},
     "output_type": "execute_result"
    }
   ],
   "source": [
    "a = np.array([[3,1], [1,2]])\r\n",
    "b = np.array([9,8])\r\n",
    "\r\n",
    "np.linalg.solve(a, b)"
   ]
  },
  {
   "cell_type": "markdown",
   "metadata": {},
   "source": [
    "Wywołanie funkcji zawierającej własną implementację - jak widzimy wynik jest zbliżony i przy większej liczbie iteracji staje się coraz dokładniejszy"
   ]
  },
  {
   "cell_type": "code",
   "execution_count": 34,
   "metadata": {},
   "outputs": [
    {
     "data": {
      "text/plain": "array([2.02777778, 3.02777778])"
     },
     "execution_count": 34,
     "metadata": {},
     "output_type": "execute_result"
    }
   ],
   "source": [
    "a = np.array([[3,1], [1,2]])\r\n",
    "b = np.array([9,8])\r\n",
    "\r\n",
    "\r\n",
    "jacobi(a, b)"
   ]
  },
  {
   "cell_type": "code",
   "execution_count": 31,
   "metadata": {},
   "outputs": [
    {
     "data": {
      "text/plain": "array([1.9997428, 2.9996142])"
     },
     "execution_count": 31,
     "metadata": {},
     "output_type": "execute_result"
    }
   ],
   "source": [
    "a = np.array([[3,1], [1,2]])\r\n",
    "b = np.array([9,8])\r\n",
    "\r\n",
    "\r\n",
    "jacobi(a, b, N=10)"
   ]
  },
  {
   "cell_type": "code",
   "execution_count": 35,
   "metadata": {},
   "outputs": [
    {
     "data": {
      "text/plain": "array([2., 3.])"
     },
     "execution_count": 35,
     "metadata": {},
     "output_type": "execute_result"
    }
   ],
   "source": [
    "a = np.array([[3,1], [1,2]])\r\n",
    "b = np.array([9,8])\r\n",
    "\r\n",
    "\r\n",
    "jacobi(a, b, N=100)"
   ]
  },
  {
   "cell_type": "markdown",
   "metadata": {},
   "source": [
    "Gdy sprawdzimy inne macierze o większych rozdzielczościach wynik będzie podobny"
   ]
  },
  {
   "cell_type": "code",
   "execution_count": 37,
   "metadata": {},
   "outputs": [
    {
     "data": {
      "text/plain": "array([ 6.96156056,  2.22112253, -1.15414086,  2.07202605])"
     },
     "execution_count": 37,
     "metadata": {},
     "output_type": "execute_result"
    }
   ],
   "source": [
    "a = np.array([\r\n",
    "[4,\t-1,\t-0.2,\t2],\r\n",
    "[-1,\t5,\t0,\t-2],\r\n",
    "[0.2,\t1,\t10,\t-1],\r\n",
    "[0,\t-2,\t-1,\t4],\r\n",
    "], float)\r\n",
    "b = np.array([30, 0, -10, 5], float)\r\n",
    "\r\n",
    "\r\n",
    "np.linalg.solve(a, b)"
   ]
  },
  {
   "cell_type": "code",
   "execution_count": 44,
   "metadata": {},
   "outputs": [
    {
     "data": {
      "text/plain": "array([ 7.10382  ,  2.10586  , -1.1840385,  2.1121   ])"
     },
     "execution_count": 44,
     "metadata": {},
     "output_type": "execute_result"
    }
   ],
   "source": [
    "a = np.array([\r\n",
    "[4,\t-1,\t-0.2,\t2],\r\n",
    "[-1,\t5,\t0,\t-2],\r\n",
    "[0.2,\t1,\t10,\t-1],\r\n",
    "[0,\t-2,\t-1,\t4],\r\n",
    "], float)\r\n",
    "b = np.array([30, 0, -10, 5], float)\r\n",
    "\r\n",
    "\r\n",
    "jacobi(a, b)"
   ]
  },
  {
   "cell_type": "code",
   "execution_count": 42,
   "metadata": {},
   "outputs": [
    {
     "data": {
      "text/plain": "array([ 6.96156056,  2.22112253, -1.15414086,  2.07202605])"
     },
     "execution_count": 42,
     "metadata": {},
     "output_type": "execute_result"
    }
   ],
   "source": [
    "a = np.array([\r\n",
    "[4,\t-1,\t-0.2,\t2],\r\n",
    "[-1,\t5,\t0,\t-2],\r\n",
    "[0.2,\t1,\t10,\t-1],\r\n",
    "[0,\t-2,\t-1,\t4],\r\n",
    "], float)\r\n",
    "b = np.array([30, 0, -10, 5], float)\r\n",
    "\r\n",
    "\r\n",
    "jacobi(a, b, N=100)"
   ]
  }
 ],
 "metadata": {
  "kernelspec": {
   "display_name": "Python 3",
   "language": "python",
   "name": "python3"
  },
  "language_info": {
   "codemirror_mode": {
    "name": "ipython",
    "version": 3
   },
   "file_extension": ".py",
   "mimetype": "text/x-python",
   "name": "python",
   "nbconvert_exporter": "python",
   "pygments_lexer": "ipython3",
   "version": "3.8.2"
  },
  "orig_nbformat": 2
 },
 "nbformat": 4,
 "nbformat_minor": 2
}