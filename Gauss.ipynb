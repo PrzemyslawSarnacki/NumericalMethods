{
 "cells": [
  {
   "cell_type": "markdown",
   "metadata": {},
   "source": [
    "<a href=\"https://colab.research.google.com/github/PrzemyslawSarnacki/NumericalMethods/blob/master/Gauss.ipynb\" target=\"_parent\">\r\n",
    "  <img src=\"https://colab.research.google.com/assets/colab-badge.svg\" alt=\"Open In Colab\"/>\r\n",
    "</a> "
   ]
  },
  {
   "cell_type": "code",
   "execution_count": 2,
   "metadata": {},
   "outputs": [],
   "source": [
    "import numpy as np\r\n",
    "import cProfile"
   ]
  },
  {
   "cell_type": "markdown",
   "metadata": {},
   "source": [
    "Implementujemy metodę eliminacji Gaussa w postaci funkcji"
   ]
  },
  {
   "cell_type": "code",
   "execution_count": 6,
   "metadata": {},
   "outputs": [],
   "source": [
    "def elimination(matrix, b):\r\n",
    "    \"\"\"\r\n",
    "    Gauss elimination function\r\n",
    "    \"\"\"\r\n",
    "    # convert both matrices to numpy array format\r\n",
    "    np.asarray(matrix) \r\n",
    "    np.asarray(b) \r\n",
    "    # check size of array\r\n",
    "    n,m = matrix.shape\r\n",
    "\r\n",
    "    #start the elimination phase\r\n",
    "    #iter through rows\r\n",
    "    for i in range(n-1):\r\n",
    "        for j in range(i+1, n):\r\n",
    "            if matrix[j,i] != 0.0:\r\n",
    "                \r\n",
    "                factor = matrix[i,i]/matrix[j,i]\r\n",
    "                for k in range(i, n):\r\n",
    "                    # subtract each value with use of factor\r\n",
    "                    matrix[j, k] = matrix[i, k] - factor * matrix[j,k] \r\n",
    "                #get new value of \r\n",
    "                b[j] = b[i] - b[j] * factor    \r\n",
    "\r\n",
    "    # declare x - matrix with results\r\n",
    "    x = np.zeros(n, float)\r\n",
    "    # get first result  \r\n",
    "    x[n-1] = b[n-1] / matrix[n-1, n-1]\r\n",
    "    #iter through rows\r\n",
    "    for i in range(n-2, -1, -1): \r\n",
    "        sum_ = 0\r\n",
    "        #iter through columns\r\n",
    "        for j in range(i+1, n): \r\n",
    "            sum_ += matrix[i, j] * x[j]\r\n",
    "        # get next results on each row\r\n",
    "        x[i] = (b[i] - sum_) / matrix[i, i]\r\n",
    "    return x\r\n"
   ]
  },
  {
   "cell_type": "markdown",
   "metadata": {},
   "source": [
    "Sprawdźmy jaki powinien być prawidłowy wynik implementacji (użyjemy wbudowanej funkcji z biblioteki numpy)"
   ]
  },
  {
   "cell_type": "code",
   "execution_count": 18,
   "metadata": {},
   "outputs": [
    {
     "data": {
      "text/plain": "array([ 28.77777778,   2.16666667, -16.        ,   6.05555556])"
     },
     "execution_count": 18,
     "metadata": {},
     "output_type": "execute_result"
    }
   ],
   "source": [
    "a = np.array([\r\n",
    "    [3,-2,5,0],\r\n",
    "    [4,5,8,1],\r\n",
    "    [1,1,2,1],\r\n",
    "    [2,7,6,5],\r\n",
    "], float)\r\n",
    "b = np.array([2,4,5,7],float)\r\n",
    "np.linalg.solve(a, b)"
   ]
  },
  {
   "cell_type": "markdown",
   "metadata": {},
   "source": [
    "Wywołanie funkcji zawierającej własną implementację - jak widzimy wynik jest identyczny"
   ]
  },
  {
   "cell_type": "code",
   "execution_count": 20,
   "metadata": {},
   "outputs": [
    {
     "data": {
      "text/plain": "array([ 28.77777778,   2.16666667, -16.        ,   6.05555556])"
     },
     "execution_count": 20,
     "metadata": {},
     "output_type": "execute_result"
    }
   ],
   "source": [
    "a = np.array([\r\n",
    "    [3,-2,5,0],\r\n",
    "    [4,5,8,1],\r\n",
    "    [1,1,2,1],\r\n",
    "    [2,7,6,5],\r\n",
    "], float)\r\n",
    "b = np.array([2,4,5,7],float)\r\n",
    "\r\n",
    "elimination(a, b)"
   ]
  },
  {
   "cell_type": "markdown",
   "metadata": {},
   "source": [
    "Porównanie wydajności obu metod"
   ]
  },
  {
   "cell_type": "code",
   "execution_count": 21,
   "metadata": {},
   "outputs": [
    {
     "name": "stdout",
     "output_type": "stream",
     "text": [
      "8 function calls in 0.000 seconds\n",
      "\n",
      "   Ordered by: standard name\n",
      "\n",
      "   ncalls  tottime  percall  cumtime  percall filename:lineno(function)\n",
      "        1    0.000    0.000    0.000    0.000 <ipython-input-6-9e29c1cf0b32>:1(elimination)\n",
      "        1    0.000    0.000    0.000    0.000 <string>:1(<module>)\n",
      "        1    0.000    0.000    0.000    0.000 _asarray.py:16(asarray)\n",
      "        1    0.000    0.000    0.000    0.000 {built-in method builtins.exec}\n",
      "        1    0.000    0.000    0.000    0.000 {built-in method numpy.array}\n",
      "        1    0.000    0.000    0.000    0.000 {built-in method numpy.zeros}\n",
      "        1    0.000    0.000    0.000    0.000 {method 'astype' of 'numpy.ndarray' objects}\n",
      "        1    0.000    0.000    0.000    0.000 {method 'disable' of '_lsprof.Profiler' objects}\n",
      "\n",
      "\n"
     ]
    }
   ],
   "source": [
    "cProfile.run(\"elimination(a, b)\")"
   ]
  },
  {
   "cell_type": "code",
   "execution_count": 22,
   "metadata": {},
   "outputs": [
    {
     "name": "stdout",
     "output_type": "stream",
     "text": [
      "33 function calls in 0.000 seconds\n",
      "\n",
      "   Ordered by: standard name\n",
      "\n",
      "   ncalls  tottime  percall  cumtime  percall filename:lineno(function)\n",
      "        1    0.000    0.000    0.000    0.000 <__array_function__ internals>:2(solve)\n",
      "        1    0.000    0.000    0.000    0.000 <string>:1(<module>)\n",
      "        2    0.000    0.000    0.000    0.000 _asarray.py:16(asarray)\n",
      "        1    0.000    0.000    0.000    0.000 linalg.py:111(get_linalg_error_extobj)\n",
      "        2    0.000    0.000    0.000    0.000 linalg.py:116(_makearray)\n",
      "        3    0.000    0.000    0.000    0.000 linalg.py:121(isComplexType)\n",
      "        2    0.000    0.000    0.000    0.000 linalg.py:134(_realType)\n",
      "        1    0.000    0.000    0.000    0.000 linalg.py:144(_commonType)\n",
      "        1    0.000    0.000    0.000    0.000 linalg.py:203(_assert_stacked_2d)\n",
      "        1    0.000    0.000    0.000    0.000 linalg.py:209(_assert_stacked_square)\n",
      "        1    0.000    0.000    0.000    0.000 linalg.py:319(_solve_dispatcher)\n",
      "        1    0.000    0.000    0.000    0.000 linalg.py:323(solve)\n",
      "        1    0.000    0.000    0.000    0.000 {built-in method builtins.exec}\n",
      "        2    0.000    0.000    0.000    0.000 {built-in method builtins.getattr}\n",
      "        5    0.000    0.000    0.000    0.000 {built-in method builtins.issubclass}\n",
      "        2    0.000    0.000    0.000    0.000 {built-in method numpy.array}\n",
      "        1    0.000    0.000    0.000    0.000 {built-in method numpy.core._multiarray_umath.implement_array_function}\n",
      "        1    0.000    0.000    0.000    0.000 {method '__array_prepare__' of 'numpy.ndarray' objects}\n",
      "        1    0.000    0.000    0.000    0.000 {method 'astype' of 'numpy.ndarray' objects}\n",
      "        1    0.000    0.000    0.000    0.000 {method 'disable' of '_lsprof.Profiler' objects}\n",
      "        2    0.000    0.000    0.000    0.000 {method 'get' of 'dict' objects}\n",
      "\n",
      "\n"
     ]
    }
   ],
   "source": [
    "cProfile.run(\"np.linalg.solve(a, b)\")"
   ]
  },
  {
   "cell_type": "markdown",
   "metadata": {},
   "source": [
    "O dziwo obie są porównywalnie szybkie"
   ]
  }
 ],
 "metadata": {
  "kernelspec": {
   "display_name": "Python 3",
   "language": "python",
   "name": "python3"
  },
  "language_info": {
   "codemirror_mode": {
    "name": "ipython",
    "version": 3
   },
   "file_extension": ".py",
   "mimetype": "text/x-python",
   "name": "python",
   "nbconvert_exporter": "python",
   "pygments_lexer": "ipython3",
   "version": "3.8.2"
  },
  "orig_nbformat": 2
 },
 "nbformat": 4,
 "nbformat_minor": 2
}