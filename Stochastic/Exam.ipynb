{
 "cells": [
  {
   "cell_type": "markdown",
   "metadata": {},
   "source": [
    "<a href=\"https://colab.research.google.com/github/PrzemyslawSarnacki/NumericalMethods/blob/master/Stochastic/Exam.ipynb\" target=\"_parent\">\r\n",
    "  <img src=\"https://colab.research.google.com/assets/colab-badge.svg\" alt=\"Open In Colab\"/>\r\n",
    "</a>"
   ]
  },
  {
   "cell_type": "code",
   "execution_count": 1,
   "metadata": {},
   "outputs": [],
   "source": [
    "import math\r\n",
    "import matplotlib.pyplot as plt\r\n",
    "import numpy as np\r\n",
    "import scipy.interpolate\r\n",
    "from numpy.polynomial.polynomial import Polynomial\r\n"
   ]
  },
  {
   "cell_type": "markdown",
   "metadata": {},
   "source": [
    "## Zadanie 1"
   ]
  },
  {
   "cell_type": "markdown",
   "metadata": {},
   "source": [
    "\r\n",
    "1.\tWartość skuteczna szumu dolnopasmowego wynosi 8 mV a wartość składowej stałej równa się \r\n",
    "32 mV. Wartość skuteczna sygnału wypadkowego wynosi: a)… b) …c) … d) … e) …"
   ]
  },
  {
   "cell_type": "code",
   "execution_count": 164,
   "metadata": {},
   "outputs": [
    {
     "data": {
      "text/latex": "$\\displaystyle 8 \\sqrt{17}$",
      "text/plain": "8*sqrt(17)"
     },
     "execution_count": 164,
     "metadata": {},
     "output_type": "execute_result"
    }
   ],
   "source": [
    "import sympy as sym\r\n",
    "\r\n",
    "x = sym.symbols(\"x\")\r\n",
    "\r\n",
    "sigma = 8\r\n",
    "m = 32\r\n",
    "msk = abs(m)\r\n",
    "sigmask = abs(sigma)\r\n",
    "\r\n",
    "m2 = sigma ** 2 + m ** 2\r\n",
    "m2hz = sym.sqrt(m2)\r\n",
    "m2sk"
   ]
  },
  {
   "cell_type": "code",
   "execution_count": 165,
   "metadata": {},
   "outputs": [
    {
     "data": {
      "text/latex": "$\\displaystyle 32.9848450049413$",
      "text/plain": "32.9848450049413"
     },
     "execution_count": 165,
     "metadata": {},
     "output_type": "execute_result"
    }
   ],
   "source": [
    "m2sk.evalf()"
   ]
  },
  {
   "cell_type": "markdown",
   "metadata": {},
   "source": [
    "## Zadanie 2"
   ]
  },
  {
   "cell_type": "markdown",
   "metadata": {},
   "source": [
    "\r\n",
    "2.\tMaksymalna wartość funkcji autokowariancji stacjonarnego sygnału losowego wynosi 53 mV a jego składowa stała jest równa 12 mV. Maksymalna wartość funkcji autokorelacji tego sygnału wynosi: a)… b) …c) … d) … e) …;\r\n"
   ]
  },
  {
   "cell_type": "code",
   "execution_count": 47,
   "metadata": {},
   "outputs": [
    {
     "data": {
      "text/plain": "197"
     },
     "execution_count": 47,
     "metadata": {},
     "output_type": "execute_result"
    }
   ],
   "source": [
    "import sympy as sym\r\n",
    "\r\n",
    "x = sym.symbols(\"x\")\r\n",
    "\r\n",
    "C = 53\r\n",
    "m = 12\r\n",
    "\r\n",
    "R = C + m ** 2\r\n",
    "R\r\n"
   ]
  },
  {
   "cell_type": "markdown",
   "metadata": {},
   "source": [
    "## Zadanie 3"
   ]
  },
  {
   "cell_type": "markdown",
   "metadata": {},
   "source": [
    "\r\n",
    "3.\tSygnał losowy o rozkładzie równomiernym przyjmuje wartości w zakresie od -8 mV do 13 mV. Wartość skuteczna tego sygnału wynosi: a)… b) …c) … d) … e) …;\r\n"
   ]
  },
  {
   "cell_type": "code",
   "execution_count": 3,
   "metadata": {},
   "outputs": [
    {
     "data": {
      "text/latex": "$\\displaystyle \\sqrt{43}$",
      "text/plain": "sqrt(43)"
     },
     "execution_count": 3,
     "metadata": {},
     "output_type": "execute_result"
    }
   ],
   "source": [
    "import sympy as sym\r\n",
    "\r\n",
    "x = sym.symbols(\"x\")\r\n",
    "\r\n",
    "xmin = -8\r\n",
    "xmax = 13\r\n",
    "C0 = sym.integrate(1, (x, xmin, xmax)) ** -1\r\n",
    "msk = sym.sqrt(sym.integrate(C0 * x**2, (x, xmin, xmax)))\r\n",
    "msk"
   ]
  },
  {
   "cell_type": "code",
   "execution_count": 4,
   "metadata": {},
   "outputs": [
    {
     "data": {
      "text/latex": "$\\displaystyle 6.557438524302$",
      "text/plain": "6.55743852430200"
     },
     "execution_count": 4,
     "metadata": {},
     "output_type": "execute_result"
    }
   ],
   "source": [
    "msk.evalf()"
   ]
  },
  {
   "cell_type": "code",
   "execution_count": 126,
   "metadata": {},
   "outputs": [
    {
     "data": {
      "text/latex": "$\\displaystyle \\frac{1}{21}$",
      "text/plain": "1/21"
     },
     "execution_count": 126,
     "metadata": {},
     "output_type": "execute_result"
    }
   ],
   "source": [
    "C0"
   ]
  },
  {
   "cell_type": "markdown",
   "metadata": {},
   "source": [
    "## Zadanie 4"
   ]
  },
  {
   "cell_type": "markdown",
   "metadata": {},
   "source": [
    "\r\n",
    "4.\tWartość skuteczna szumu białego wynosi 3 mV. Gęstość prawdopodobieństwa wartości chwilowych tego sygnału przyjmuje wartość maksymalną równą: a)… b) …c) … d) … e) …;\r\n"
   ]
  },
  {
   "cell_type": "code",
   "execution_count": 208,
   "metadata": {},
   "outputs": [
    {
     "data": {
      "text/latex": "$\\displaystyle 0.132980760133811$",
      "text/plain": "0.132980760133811"
     },
     "execution_count": 208,
     "metadata": {},
     "output_type": "execute_result"
    }
   ],
   "source": [
    "x = sym.symbols(\"x\")\r\n",
    "\r\n",
    "fmax = 3\r\n",
    "# gaussian distribution\r\n",
    "fgn = sym.exp(-(x ** 2) / (2 * 2 * fmax ** 2)) / (fmax * sym.sqrt(2 * sym.pi))\r\n",
    "\r\n",
    "# max value is in the x = 0\r\n",
    "fgn.evalf(subs={x: 0})\r\n"
   ]
  },
  {
   "cell_type": "markdown",
   "metadata": {},
   "source": [
    "## Zadanie 5"
   ]
  },
  {
   "cell_type": "markdown",
   "metadata": {},
   "source": [
    "\r\n",
    "5.\tWłaściwości statystyczne mocy odpowiedzi impulsowej kanału opisuje rozkład wykładniczy jednostronny (Laplace’a). Rozkład ten przyjmuje wartość maksymalną równą 83. Prawdopodobieństwo, że moc odbieranego sygnału przyjmie wartość większą niż 8 mV jest równe: a)… b) …c) … d) … e) …;\r\n"
   ]
  },
  {
   "cell_type": "code",
   "execution_count": 205,
   "metadata": {},
   "outputs": [
    {
     "data": {
      "text/latex": "$\\displaystyle 0.0109411305107399$",
      "text/plain": "0.0109411305107399"
     },
     "execution_count": 205,
     "metadata": {},
     "output_type": "execute_result"
    }
   ],
   "source": [
    "import sympy as sym\r\n",
    "\r\n",
    "x = sym.symbols(\"x\")\r\n",
    "\r\n",
    "lamb = 1 / 83\r\n",
    "distribution = 1 - lamb * sym.exp(-lamb * 8).evalf()\r\n",
    "P = 1 - distribution\r\n",
    "P.evalf(subs={x: 8})"
   ]
  },
  {
   "cell_type": "markdown",
   "metadata": {},
   "source": [
    "## Zadanie 6"
   ]
  },
  {
   "cell_type": "markdown",
   "metadata": {},
   "source": [
    "\r\n",
    "6.\tFunkcja autokorelacji idealnego szumu dolnopasmowego przyjmuje wartość maksymalną równą 9 mV2. Górna częstotliwość widma tego sygnału jest równa 46 kHz. Wartość widmowej gęstości mocy tego sygnału wynosi: a)… b) …c) … d) … e) …;\r\n",
    "\r\n"
   ]
  },
  {
   "cell_type": "code",
   "execution_count": 136,
   "metadata": {},
   "outputs": [
    {
     "data": {
      "text/plain": "0.1956521739130435"
     },
     "execution_count": 136,
     "metadata": {},
     "output_type": "execute_result"
    }
   ],
   "source": [
    "R = 9\r\n",
    "P = R\r\n",
    "fmax = 46\r\n",
    "B = fmax\r\n",
    "\r\n",
    "S = P / B\r\n",
    "S"
   ]
  },
  {
   "cell_type": "markdown",
   "metadata": {},
   "source": [
    "## Zadanie 7"
   ]
  },
  {
   "cell_type": "markdown",
   "metadata": {},
   "source": [
    "\r\n",
    "7.\tW sygnale, który jest sumą sygnału harmonicznego (użytecznego) i szumu stosunek mocy sygnału użytecznego do mocy szumu wynosi 16 dB. W tym przypadku, gęstość prawdopodobieństwa fazy tego sygnału przyjmuje wartość maksymalną równą: a)… b) …c) … d) … e) …;\r\n",
    "\r\n"
   ]
  },
  {
   "cell_type": "code",
   "execution_count": 209,
   "metadata": {},
   "outputs": [
    {
     "data": {
      "text/latex": "$\\displaystyle 6.38307648642292$",
      "text/plain": "6.38307648642292"
     },
     "execution_count": 209,
     "metadata": {},
     "output_type": "execute_result"
    }
   ],
   "source": [
    "a = 16\r\n",
    "sigma = 1 / a\r\n",
    "\r\n",
    "fgn = sym.exp(-(x ** 2) / (2 * 2 * sigma ** 2)) / (sigma * sym.sqrt(2 * sym.pi))\r\n",
    "\r\n",
    "# 1 / (sigma * sym.sqrt(2*sym.pi)).evalf()\r\n",
    "fgn.evalf(subs={x: 0})\r\n"
   ]
  },
  {
   "cell_type": "markdown",
   "metadata": {},
   "source": [
    "## Zadanie 8"
   ]
  },
  {
   "cell_type": "markdown",
   "metadata": {},
   "source": [
    "\r\n",
    "8.\tW przypadku idealnego szumu wąskopasmowego, prawdopodobieństwo wystąpienia wartości fazy większej niż 124o wynosi: a)… b) …c) … d) … e) …;\r\n"
   ]
  },
  {
   "cell_type": "code",
   "execution_count": 35,
   "metadata": {},
   "outputs": [
    {
     "data": {
      "text/latex": "$\\displaystyle 0.155555555555556$",
      "text/plain": "0.155555555555556"
     },
     "execution_count": 35,
     "metadata": {},
     "output_type": "execute_result"
    }
   ],
   "source": [
    "import sympy as sym\r\n",
    "import math\r\n",
    "from decimal import Decimal\r\n",
    "\r\n",
    "degrees = 124\r\n",
    "x = sym.symbols(\"x\")\r\n",
    "sym.integrate(1 / (2 * sym.pi), (xsym. sym., -sym.pi, sym.pi))\r\n",
    "sym.integrate(1 / (2 * sym.pi), (x, (degrees / 180) * sym.pi, sym.pi))\r\n"
   ]
  },
  {
   "cell_type": "markdown",
   "metadata": {},
   "source": [
    "## Zadanie 9"
   ]
  },
  {
   "cell_type": "markdown",
   "metadata": {},
   "source": [
    "\r\n",
    "9.\tSygnał o rozkładzie równomiernym w przedziale od 2 mV do 15 mV podano na układ o charakterystyce opisanej funkcją liniową o postaci y=2,7x. Wartość składowej stałej sygnału na wyjściu tego układu wynosi: a)… b) …c) … d) … e) …;\r\n",
    "\r\n"
   ]
  },
  {
   "cell_type": "code",
   "execution_count": 9,
   "metadata": {},
   "outputs": [
    {
     "data": {
      "text/latex": "$\\displaystyle 22.95$",
      "text/plain": "22.9500000000000"
     },
     "execution_count": 9,
     "metadata": {},
     "output_type": "execute_result"
    }
   ],
   "source": [
    "import sympy as sym\r\n",
    "import math\r\n",
    "from decimal import Decimal\r\n",
    "\r\n",
    "x = sym.symbols(\"x\")\r\n",
    "y = sym.symbols(\"y\")\r\n",
    "# album_numer = input(\"Wpisz numer albumu:\")\r\n",
    "# ns = [int(i) for i in album_numer]\r\n",
    "# xmin = min(ns)\r\n",
    "# xmax = max(ns)\r\n",
    "xmin = 2\r\n",
    "xmax = 15\r\n",
    "fx = sym.expand(2.7 * x)\r\n",
    "# a = 1/2*(xmin + xmax) + ns[2]\r\n",
    "# b = (xmin/xmax) + 1\r\n",
    "# C0 = 1/(xmax - xmin)\r\n",
    "C0 = sym.integrate(1, (x, xmin, xmax)) ** -1\r\n",
    "\r\n",
    "# mx = (xmax + xmin)/(2)\r\n",
    "mx = sym.integrate(x * C0, (x, xmin, xmax))\r\n",
    "# f = (xmax - xmin) / (2)\r\n",
    "ymin = fx.evalf(subs={x: xmin})\r\n",
    "ymax = fx.evalf(subs={x: xmax})\r\n",
    "\r\n",
    "# h = x / 2.7\r\n",
    "h = sym.solve(sym.Eq(y, fx), x)[0].subs(y, x)\r\n",
    "derivative = sym.Abs(sym.diff(h, x))\r\n",
    "fy = C0 * derivative\r\n",
    "my = sym.integrate(x * fy, (x, ymin, ymax))\r\n",
    "my\r\n"
   ]
  },
  {
   "cell_type": "markdown",
   "metadata": {},
   "source": [
    "## Zadanie 10 "
   ]
  },
  {
   "cell_type": "markdown",
   "metadata": {},
   "source": [
    "\r\n",
    "10.\tNa wejściu układu liniowego występuje sygnał, którego składowa stała jest równa 13 mV. Transmitancję częstotliwościową tego układu opisuje krzywa Gaussa, której wartość parametru sigma równa się 0.07. Wartość składowej stałej sygnału na wyjściu tego układu wynosi: \r\n"
   ]
  },
  {
   "cell_type": "code",
   "execution_count": 188,
   "metadata": {},
   "outputs": [
    {
     "data": {
      "text/latex": "$\\displaystyle 74.0892806459804$",
      "text/plain": "74.0892806459804"
     },
     "execution_count": 188,
     "metadata": {},
     "output_type": "execute_result"
    }
   ],
   "source": [
    "import sympy as sym\r\n",
    "import math\r\n",
    "\r\n",
    "B = 36\r\n",
    "\r\n",
    "w = sym.symbols(\"w\")\r\n",
    "\r\n",
    "mx = 13\r\n",
    "sigma = 0.07\r\n",
    "Kw = (1 / (sigma * sym.sqrt(2 * sym.pi))) * sym.exp((-(w ** 2)) / (2 * sigma ** 2))\r\n",
    "yt0 = sym.integrate(Kw ** 2, w)\r\n",
    "\r\n",
    "yt0 = sym.exp((-sigma * x ** 2) / 2)\r\n",
    "yt0.evalf(subs={x: 0})\r\n",
    "\r\n",
    "my = mx * Kw.evalf(subs={w: 0})\r\n",
    "my"
   ]
  },
  {
   "cell_type": "markdown",
   "metadata": {},
   "source": [
    "## Zadanie 11"
   ]
  },
  {
   "cell_type": "markdown",
   "metadata": {},
   "source": [
    "\r\n",
    "11.\tNa wyjściu filtru dopasowanego występuje szum biały o widmowej gęstości mocy równej \r\n",
    "93 pV2/Hz. Filtr dopasowany jest do impulsu opisanego funkcją trójkątną (trójkąt równoramienny) o czasie trwania równym 2 ms i amplitudzie równej 23 mV. Maksymalna wartość stosunku mocy tego sygnału do mocy szumu wynosi: a)… b) …c) … d) … e) …;\r\n"
   ]
  },
  {
   "cell_type": "code",
   "execution_count": 5,
   "metadata": {},
   "outputs": [
    {
     "data": {
      "text/plain": "11.376344086021506"
     },
     "execution_count": 5,
     "metadata": {},
     "output_type": "execute_result"
    }
   ],
   "source": [
    "import sympy as sym\r\n",
    "\r\n",
    "w = sym.symbols(\"w\")\r\n",
    "t = sym.symbols(\"t\")\r\n",
    "\r\n",
    "S0 = 93\r\n",
    "A = 23\r\n",
    "B = 2\r\n",
    "# E = A ** 2 * B ** 2 / 4\r\n",
    "E = A**2 * B \r\n",
    "Pym2 = E / S0\r\n",
    "Pym2"
   ]
  },
  {
   "cell_type": "markdown",
   "metadata": {},
   "source": [
    "## Zadanie 12"
   ]
  },
  {
   "cell_type": "markdown",
   "metadata": {},
   "source": [
    "\r\n",
    "12.\tW SMO średni czas trwania połączenia wynosi 1 min. a średni odstęp pomiędzy kolejnymi zgłoszeniami jest równy 5 s. Wówczas średnie natężenie ruchu generowanego przez 5-ciu użytkowników tego SMO wynosi: a)… b) …c) … d) … e) …;\r\n"
   ]
  },
  {
   "cell_type": "code",
   "execution_count": 66,
   "metadata": {},
   "outputs": [
    {
     "data": {
      "text/plain": "60.0"
     },
     "execution_count": 66,
     "metadata": {},
     "output_type": "execute_result"
    }
   ],
   "source": [
    "time = 1\r\n",
    "step = 5\r\n",
    "N = 5\r\n",
    "lamb = 60 / step\r\n",
    "a = lamb * time\r\n",
    "As = a * N\r\n",
    "As\r\n"
   ]
  }
 ],
 "metadata": {
  "kernelspec": {
   "display_name": "Python 3",
   "language": "python",
   "name": "python3"
  },
  "language_info": {
   "codemirror_mode": {
    "name": "ipython",
    "version": 3
   },
   "file_extension": ".py",
   "mimetype": "text/x-python",
   "name": "python",
   "nbconvert_exporter": "python",
   "pygments_lexer": "ipython3",
   "version": "3.8.2"
  },
  "orig_nbformat": 2
 },
 "nbformat": 4,
 "nbformat_minor": 2
}