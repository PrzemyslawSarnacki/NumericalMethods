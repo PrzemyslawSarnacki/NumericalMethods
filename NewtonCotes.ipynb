{
 "cells": [
  {
   "cell_type": "markdown",
   "metadata": {},
   "source": [
    "<a href=\"https://colab.research.google.com/github/PrzemyslawSarnacki/NumericalMethods/blob/master/Trygonometric.ipynb\" target=\"_parent\">\r\n",
    "  <img src=\"https://colab.research.google.com/assets/colab-badge.svg\" alt=\"Open In Colab\"/>\r\n",
    "</a>"
   ]
  },
  {
   "cell_type": "code",
   "execution_count": 1,
   "metadata": {},
   "outputs": [],
   "source": [
    "import math\r\n",
    "import matplotlib.pyplot as plt\r\n",
    "import numpy as np\r\n",
    "import scipy.integrate\r\n",
    "from numpy.polynomial.polynomial import Polynomial\r\n",
    "import math"
   ]
  },
  {
   "cell_type": "markdown",
   "metadata": {},
   "source": [
    "Deklarujemy \"całkowaną\" przez nas funkcję"
   ]
  },
  {
   "cell_type": "code",
   "execution_count": 2,
   "metadata": {},
   "outputs": [],
   "source": [
    "def func(x_):\r\n",
    "    return 6*x_*math.exp(0.5*x_)+1.5*x_**2*math.exp(0.5*x_)\r\n"
   ]
  },
  {
   "cell_type": "code",
   "execution_count": 4,
   "metadata": {},
   "outputs": [],
   "source": [
    "def newton_cotes(func, a, b, n):\r\n",
    "    # dictionary that includes sigma and ns values for certain n\r\n",
    "    coeffs = {\r\n",
    "        1: {\r\n",
    "            \"sigma\": [1, 1],\r\n",
    "            \"ns\": 2,\r\n",
    "        },\r\n",
    "        2: {\r\n",
    "            \"sigma\": [1, 4, 1],\r\n",
    "            \"ns\": 6,\r\n",
    "        },\r\n",
    "        3: {\r\n",
    "            \"sigma\": [1, 3, 3, 1],\r\n",
    "            \"ns\": 8,\r\n",
    "        },\r\n",
    "        4: {\r\n",
    "            \"sigma\": [7, 32, 12, 32, 7],\r\n",
    "            \"ns\": 90,\r\n",
    "        },\r\n",
    "        5: {\r\n",
    "            \"sigma\": [19, 75, 50, 50, 75],\r\n",
    "            \"ns\": 288,\r\n",
    "        },\r\n",
    "    }\r\n",
    "\r\n",
    "    integral = 0\r\n",
    "    h = (b - a) / n\r\n",
    "    # iterate \r\n",
    "    for i in range(n + 1):\r\n",
    "        # increment certain sigma muliplied by certain function val\r\n",
    "        integral += coeffs[n][\"sigma\"][i] * func(a + i * h)\r\n",
    "    integral *= (b - a) / coeffs[n][\"ns\"]\r\n",
    "    return integral\r\n",
    "\r\n",
    "\r\n",
    "def newton_cotes_trapezoid(func, a, b, n):\r\n",
    "    h = (b - a) / n\r\n",
    "    integral = func(a) + func(b)  # find the func(a) and func(b)\r\n",
    "\r\n",
    "    for i in range(1, n):\r\n",
    "        integral += 2 * (func(a + i * h))\r\n",
    "    integral *= h / 2.0\r\n",
    "    return integral\r\n",
    "\r\n",
    "\r\n",
    "def newton_cotes_simpson(func, a, b, n):\r\n",
    "    h = (b - a) / n\r\n",
    "    integral = func(a) + func(b)\r\n",
    "\r\n",
    "    for i in range(1, n):\r\n",
    "        # even\r\n",
    "        if i % 2 == 0:\r\n",
    "            integral += 2 * (func(a + i * h))\r\n",
    "        # uneven \r\n",
    "        else:\r\n",
    "            integral += 4 * (func(a + i * h))\r\n",
    "    integral *= h / 3.0\r\n",
    "    return integral\r\n"
   ]
  },
  {
   "cell_type": "markdown",
   "metadata": {},
   "source": [
    "Przetestujmy wszystkie powyższe funkcje numeryczne, a mianowicie kolejno podstawową, trapezową i Simpsona"
   ]
  },
  {
   "cell_type": "code",
   "execution_count": 5,
   "metadata": {},
   "outputs": [
    {
     "data": {
      "text/plain": "27.673223590464858"
     },
     "execution_count": 5,
     "metadata": {},
     "output_type": "execute_result"
    }
   ],
   "source": [
    "newton_cotes(func, 1, 2, 4)"
   ]
  },
  {
   "cell_type": "code",
   "execution_count": 6,
   "metadata": {},
   "outputs": [
    {
     "data": {
      "text/plain": "27.860921634657014"
     },
     "execution_count": 6,
     "metadata": {},
     "output_type": "execute_result"
    }
   ],
   "source": [
    "newton_cotes_trapezoid(func, 1, 2, 4)"
   ]
  },
  {
   "cell_type": "code",
   "execution_count": 7,
   "metadata": {},
   "outputs": [
    {
     "data": {
      "text/plain": "27.67370944173623"
     },
     "execution_count": 7,
     "metadata": {},
     "output_type": "execute_result"
    }
   ],
   "source": [
    "newton_cotes_simpson(func, 1, 2, 4)"
   ]
  },
  {
   "cell_type": "markdown",
   "metadata": {},
   "source": [
    "Sprawdźmy jak równanie będzie wyglądać w postaci symbolicznej:"
   ]
  },
  {
   "cell_type": "code",
   "execution_count": 8,
   "metadata": {},
   "outputs": [],
   "source": [
    "import sympy as sym\r\n",
    "\r\n",
    "x = sym.symbols(\"x\")\r\n",
    "\r\n",
    "def newton_cotes_sym(a, b):\r\n",
    "    integral = sym.integrate(6*x*sym.exp(0.5*x)+1.5*x**2*sym.exp(0.5*x), (x, a, b))\r\n",
    "    return integral\r\n"
   ]
  },
  {
   "cell_type": "code",
   "execution_count": 9,
   "metadata": {},
   "outputs": [],
   "source": [
    "def integrated_func(x_):\r\n",
    "    return 3.0*x_**2*math.exp(0.5*x_)"
   ]
  },
  {
   "cell_type": "markdown",
   "metadata": {},
   "source": [
    "Wywołajmy funkcję symboliczną, która obliczy nam symbolicznie całkę "
   ]
  },
  {
   "cell_type": "code",
   "execution_count": 10,
   "metadata": {},
   "outputs": [
    {
     "data": {
      "text/latex": "$\\displaystyle 27.6732181294082$",
      "text/plain": "27.6732181294082"
     },
     "execution_count": 10,
     "metadata": {},
     "output_type": "execute_result"
    }
   ],
   "source": [
    "newton_cotes_sym(1,2)"
   ]
  },
  {
   "cell_type": "markdown",
   "metadata": {},
   "source": [
    "Funkcja mierząca błąd"
   ]
  },
  {
   "cell_type": "code",
   "execution_count": 11,
   "metadata": {},
   "outputs": [],
   "source": [
    "def error(value):\r\n",
    "    return abs(newton_cotes_sym(1,2) - value)"
   ]
  },
  {
   "cell_type": "code",
   "execution_count": 12,
   "metadata": {},
   "outputs": [
    {
     "name": "stdout",
     "output_type": "stream",
     "text": [
      "27.6732181294082\t0\n",
      "27.673223590464858\t0.00000546105669840813\n",
      "27.860921634657014\t0.187703505248855\n",
      "27.67370944173623\t0.000491312328069426\n"
     ]
    }
   ],
   "source": [
    "print(f\"{newton_cotes_sym(1,2)}\\t{error(newton_cotes_sym(1,2))}\")\r\n",
    "print(f\"{newton_cotes(func, 1, 2, 4)}\\t{error(newton_cotes(func, 1, 2, 4))}\")\r\n",
    "print(f\"{newton_cotes_trapezoid(func, 1, 2, 4)}\\t{error(newton_cotes_trapezoid(func, 1, 2, 4))}\")\r\n",
    "print(f\"{newton_cotes_simpson(func, 1, 2, 4)}\\t{error(newton_cotes_simpson(func, 1, 2, 4))}\")"
   ]
  },
  {
   "cell_type": "markdown",
   "metadata": {},
   "source": [
    "Jak widzimy spośród tych metod podstawowa metoda Newtona-Cotes'a jest najbardziej dokładna"
   ]
  },
  {
   "cell_type": "markdown",
   "metadata": {},
   "source": [
    "\r\n",
    "| Metoda | Wynik | Błąd |\r\n",
    "| --- | --- | --- |\r\n",
    "| Symboliczna | 27.6732181294082 | 0 |\r\n",
    "| Podstawowa | 27.673223590464858 | .0.00000546105669840813 |\r\n",
    "| Trapez | 27.860921634657014 | .0.187703505248855 |\r\n",
    "| Simpsona | 27.67370944173623 | .0.000491312328069426 |\r\n",
    "\r\n",
    "\t\r\n",
    "\t\r\n",
    "\t"
   ]
  }
 ],
 "metadata": {
  "kernelspec": {
   "display_name": "Python 3",
   "language": "python",
   "name": "python3"
  },
  "language_info": {
   "codemirror_mode": {
    "name": "ipython",
    "version": 3
   },
   "file_extension": ".py",
   "mimetype": "text/x-python",
   "name": "python",
   "nbconvert_exporter": "python",
   "pygments_lexer": "ipython3",
   "version": "3.8.2"
  },
  "orig_nbformat": 2
 },
 "nbformat": 4,
 "nbformat_minor": 2
}