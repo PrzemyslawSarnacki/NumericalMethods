{
 "cells": [
  {
   "cell_type": "markdown",
   "metadata": {},
   "source": [
    "[![Open In Colab](https://colab.research.google.com/assets/colab-badge.svg)](https://colab.research.google.com/github/PrzemyslawSarnacki/NumericalMethods/blob/master/FloatConverter.ipynb) "
   ]
  },
  {
   "cell_type": "code",
   "execution_count": 1,
   "metadata": {},
   "outputs": [],
   "source": [
    "import math\r\n",
    "import matplotlib.pyplot as plt\r\n",
    "import numpy as np "
   ]
  },
  {
   "cell_type": "code",
   "execution_count": 9,
   "metadata": {},
   "outputs": [],
   "source": [
    "def list_to_string(list_):\r\n",
    "    return \"\".join([str(elem) for elem in list_])\r\n",
    "\r\n",
    "\r\n",
    "def decimal_to_binary(decimal):\r\n",
    "    binary = []\r\n",
    "    while decimal / 2 >= 1:\r\n",
    "        i = int(decimal % 2)\r\n",
    "        binary.append(i)\r\n",
    "        decimal /= 2\r\n",
    "    if len(binary) > 1:\r\n",
    "        binary.reverse()\r\n",
    "    binary.insert(0, 1)\r\n",
    "    return binary\r\n",
    "\r\n",
    "\r\n",
    "def float_to_binary(decimal, place):\r\n",
    "    binary = []\r\n",
    "    count = 1\r\n",
    "    l = len(decimal)\r\n",
    "    product = int(decimal)\r\n",
    "    while count <= place:\r\n",
    "        product = product * (10 ** -l)\r\n",
    "        product *= 2\r\n",
    "        decimal_int, fraction = str(product).split(\".\")\r\n",
    "        l = len(fraction)\r\n",
    "        decimal_int = int(decimal_int)\r\n",
    "        fraction = int(fraction)\r\n",
    "        binary.append(decimal_int)\r\n",
    "        if product == 1.0:\r\n",
    "            while len(binary) <= place:\r\n",
    "                binary.append(0)\r\n",
    "            break\r\n",
    "        else:\r\n",
    "            product = fraction\r\n",
    "        count += 1\r\n",
    "    return binary\r\n",
    "\r\n",
    "\r\n",
    "def binary_to_decimal(binary):\r\n",
    "    decimal, i = 0, 0\r\n",
    "    while binary != 0:\r\n",
    "        dec = binary % 10\r\n",
    "        decimal = decimal + dec * 2 ** i\r\n",
    "        binary = binary // 10\r\n",
    "        i += 1\r\n",
    "    return decimal\r\n",
    "\r\n",
    "\r\n",
    "def treat_bigger_number(num):\r\n",
    "    integer, decimal = str(num).split(\".\")\r\n",
    "    integer_string = list(integer)\r\n",
    "    sign_check = integer_string.copy()\r\n",
    "    if integer_string[0][0] == \"-\":\r\n",
    "        integer_string[0] = integer_string[0][1:]\r\n",
    "    integer = list_to_string(integer_string)\r\n",
    "    integer = int(integer)\r\n",
    "\r\n",
    "    binary_integer_part = decimal_to_binary(integer)\r\n",
    "    exponent = 127 + len((binary_integer_part)) - 1\r\n",
    "    binary_exponent = decimal_to_binary(exponent)\r\n",
    "    binary_integer_part.pop(0)\r\n",
    "    if len(binary_exponent) == 7:\r\n",
    "        binary_exponent.insert(0, 0)\r\n",
    "    if sign_check[0][0] == \"-\":\r\n",
    "        binary_exponent.insert(0, 1)\r\n",
    "    else:\r\n",
    "        binary_exponent.insert(0, 0)\r\n",
    "    place = 23 - len(binary_integer_part)\r\n",
    "    binary_float_part = float_to_binary(decimal, place)\r\n",
    "    return binary_exponent, binary_integer_part, binary_float_part\r\n",
    "\r\n",
    "\r\n",
    "def smaller_than_zero(num):\r\n",
    "    count = 0\r\n",
    "    while num > -1.0:\r\n",
    "        num *= 2\r\n",
    "        count += 1\r\n",
    "    exponent = 127 - count\r\n",
    "    integer, decimal = str(num).split(\".\")\r\n",
    "    integer = int(integer)\r\n",
    "    binary_integer_part = decimal_to_binary(integer)\r\n",
    "    binary_exponent = decimal_to_binary(exponent)\r\n",
    "    binary_integer_part.pop(0)\r\n",
    "    if len(binary_exponent) <= 8:\r\n",
    "        binary_exponent.insert(0, 0)\r\n",
    "    binary_exponent.insert(0, 1)\r\n",
    "    place = 23 - len(binary_integer_part)\r\n",
    "    binary_float_part = float_to_binary(decimal, place)\r\n",
    "    return binary_exponent, binary_integer_part, binary_float_part\r\n",
    "\r\n",
    "\r\n",
    "def bigger_than_zero(num):\r\n",
    "    count = 0\r\n",
    "    while num < 1.0:\r\n",
    "        num *= 2\r\n",
    "        count += 1\r\n",
    "    exponent = 127 - count\r\n",
    "    integer, decimal = str(num).split(\".\")\r\n",
    "    integer = int(integer)\r\n",
    "    binary_integer_part = decimal_to_binary(integer)\r\n",
    "    binary_exponent = decimal_to_binary(exponent)\r\n",
    "    binary_integer_part.pop(0)\r\n",
    "    if len(binary_exponent) <= 8:\r\n",
    "        binary_exponent.insert(0, 0)\r\n",
    "    binary_exponent.insert(0, 0)\r\n",
    "    place = 23 - len(binary_integer_part)\r\n",
    "    binary_float_part = float_to_binary(decimal, place)\r\n",
    "    return binary_exponent, binary_integer_part, binary_float_part\r\n",
    "\r\n",
    "\r\n",
    "def ieee_754_to_binary(num):\r\n",
    "    if num < 1.0 and num > 0.0:\r\n",
    "        binary_exponent, binary_integer_part, binary_float_part = bigger_than_zero(num)\r\n",
    "    elif num > -1.0 and num < 0.0:\r\n",
    "        binary_exponent, binary_integer_part, binary_float_part = smaller_than_zero(num)\r\n",
    "    else:\r\n",
    "        binary_exponent, binary_integer_part, binary_float_part = treat_bigger_number(num)\r\n",
    "\r\n",
    "    binary_exponent = list_to_string(binary_exponent)\r\n",
    "    binary_integer_part = list_to_string(binary_integer_part)\r\n",
    "    binary_float_part = list_to_string(binary_float_part)\r\n",
    "    return f\"{binary_exponent}{binary_integer_part}{binary_float_part}\"\r\n",
    "\r\n",
    "\r\n",
    "def mantissa_to_float(binary):\r\n",
    "    power = -1\r\n",
    "    result = 0\r\n",
    "    for i in binary:\r\n",
    "        result += int(i) * 2 ** (power)\r\n",
    "        power -= 1\r\n",
    "    return 1 + result\r\n",
    "\r\n",
    "\r\n",
    "def ieee_754_to_decimal(binary):\r\n",
    "    minus = (-1) ** int(binary[0])\r\n",
    "    power = binary_to_decimal(int(binary[1:9]))\r\n",
    "    mantissa = mantissa_to_float(binary[9::])\r\n",
    "    return minus * mantissa * 2 ** (power - 127)"
   ]
  },
  {
   "cell_type": "code",
   "execution_count": 3,
   "metadata": {},
   "outputs": [
    {
     "data": {
      "text/plain": "'10111101110011001100110011001100'"
     },
     "execution_count": 3,
     "metadata": {},
     "output_type": "execute_result"
    }
   ],
   "source": [
    "ieee_754_to_binary(-0.1)"
   ]
  },
  {
   "cell_type": "code",
   "execution_count": 10,
   "metadata": {},
   "outputs": [
    {
     "data": {
      "text/plain": "'01000001111100010001111010111000'"
     },
     "execution_count": 10,
     "metadata": {},
     "output_type": "execute_result"
    }
   ],
   "source": [
    "ieee_754_to_binary(30.14)"
   ]
  },
  {
   "cell_type": "code",
   "execution_count": 5,
   "metadata": {},
   "outputs": [
    {
     "data": {
      "text/plain": "'00111111000000000000000000000000'"
     },
     "execution_count": 5,
     "metadata": {},
     "output_type": "execute_result"
    }
   ],
   "source": [
    "ieee_754_to_binary(0.5)"
   ]
  },
  {
   "cell_type": "code",
   "execution_count": 6,
   "metadata": {},
   "outputs": [
    {
     "data": {
      "text/plain": "3.1399998664855957"
     },
     "execution_count": 6,
     "metadata": {},
     "output_type": "execute_result"
    }
   ],
   "source": [
    "ieee_754_to_decimal(\"01000000010010001111010111000010\")"
   ]
  },
  {
   "cell_type": "code",
   "execution_count": 7,
   "metadata": {},
   "outputs": [
    {
     "data": {
      "text/plain": "-0.09999999403953552"
     },
     "execution_count": 7,
     "metadata": {},
     "output_type": "execute_result"
    }
   ],
   "source": [
    "ieee_754_to_decimal(\"10111101110011001100110011001100\")"
   ]
  },
  {
   "cell_type": "code",
   "execution_count": 8,
   "metadata": {},
   "outputs": [
    {
     "data": {
      "text/plain": "0.5"
     },
     "execution_count": 8,
     "metadata": {},
     "output_type": "execute_result"
    }
   ],
   "source": [
    "ieee_754_to_decimal(\"00111111000000000000000000000000\")"
   ]
  },
  {
   "cell_type": "code",
   "execution_count": null,
   "metadata": {},
   "outputs": [],
   "source": []
  }
 ],
 "metadata": {
  "kernelspec": {
   "display_name": "Python 3",
   "name": "python3"
  },
  "language_info": {
   "codemirror_mode": {
    "name": "ipython",
    "version": 3
   },
   "file_extension": ".py",
   "mimetype": "text/x-python",
   "name": "python",
   "nbconvert_exporter": "python",
   "pygments_lexer": "ipython3",
   "version": "3.8.2"
  },
  "orig_nbformat": 2
 },
 "nbformat": 4,
 "nbformat_minor": 2
}