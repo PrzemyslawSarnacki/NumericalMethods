{
 "cells": [
  {
   "cell_type": "markdown",
   "metadata": {},
   "source": [
    "<a href=\"https://colab.research.google.com/github/PrzemyslawSarnacki/NumericalMethods/blob/master/Stochastic/Exam.ipynb\" target=\"_parent\">\r\n",
    "  <img src=\"https://colab.research.google.com/assets/colab-badge.svg\" alt=\"Open In Colab\"/>\r\n",
    "</a>"
   ]
  },
  {
   "cell_type": "code",
   "execution_count": 19,
   "metadata": {},
   "outputs": [],
   "source": [
    "import math\r\n",
    "import matplotlib.pyplot as plt\r\n",
    "import numpy as np\r\n",
    "import scipy.interpolate\r\n"
   ]
  },
  {
   "cell_type": "markdown",
   "metadata": {},
   "source": [
    "## Zadanie 1"
   ]
  },
  {
   "cell_type": "markdown",
   "metadata": {},
   "source": [
    "\r\n",
    "1. Wyznacz całkowe przekształcenie Fouriera sygnału x(t)=exp(-3|x|)"
   ]
  },
  {
   "cell_type": "code",
   "execution_count": 149,
   "metadata": {},
   "outputs": [
    {
     "data": {
      "text/latex": "$\\displaystyle \\frac{6}{4 \\pi^{2} w^{2} + 9}$",
      "text/plain": "6/(4*pi**2*w**2 + 9)"
     },
     "execution_count": 149,
     "metadata": {},
     "output_type": "execute_result"
    }
   ],
   "source": [
    "import sympy as sym\r\n",
    "\r\n",
    "x = sym.symbols(\"x\")\r\n",
    "w = sym.symbols(\"w\")\r\n",
    "\r\n",
    "sym.fourier_transform(sym.exp(-3*sym.Abs(x)), x, w)"
   ]
  },
  {
   "cell_type": "code",
   "execution_count": 153,
   "metadata": {},
   "outputs": [
    {
     "data": {
      "text/latex": "$\\displaystyle \\int e^{i w x} e^{- 3 \\left|{x}\\right|}\\, dx$",
      "text/plain": "Integral(exp(I*w*x)*exp(-3*Abs(x)), x)"
     },
     "execution_count": 153,
     "metadata": {},
     "output_type": "execute_result"
    }
   ],
   "source": [
    "sym.integrate(sym.exp(-3*sym.Abs(x))*sym.exp(sym.I*w*x), x)"
   ]
  },
  {
   "cell_type": "markdown",
   "metadata": {},
   "source": [
    "## Zadanie 2"
   ]
  },
  {
   "cell_type": "markdown",
   "metadata": {},
   "source": [
    "\r\n",
    "2.\tOkreśl wymaganą rozdzielczość przetwornika A/C dla uzyskania stosunku sygnał/szum kwantyzacji\r\n",
    "na poziomie 55dB"
   ]
  },
  {
   "cell_type": "code",
   "execution_count": 35,
   "metadata": {},
   "outputs": [
    {
     "data": {
      "text/plain": "9.135302260940247"
     },
     "execution_count": 35,
     "metadata": {},
     "output_type": "execute_result"
    }
   ],
   "source": [
    "# SQNR = 20*math.log(2**1, 10)\r\n",
    "SQNR = 55\r\n",
    "Q = SQNR / (20*math.log(2, 10))\r\n",
    "Q"
   ]
  },
  {
   "cell_type": "markdown",
   "metadata": {},
   "source": [
    "W przypadku sinusoidy"
   ]
  },
  {
   "cell_type": "code",
   "execution_count": 38,
   "metadata": {},
   "outputs": [
    {
     "data": {
      "text/plain": "8.842806492185415"
     },
     "execution_count": 38,
     "metadata": {},
     "output_type": "execute_result"
    }
   ],
   "source": [
    "SQNR = 55\r\n",
    "Q = (SQNR - 1.761) / (20*math.log(2, 10))\r\n",
    "Q"
   ]
  },
  {
   "cell_type": "markdown",
   "metadata": {},
   "source": [
    "## Zadanie 3"
   ]
  },
  {
   "cell_type": "markdown",
   "metadata": {},
   "source": [
    "## Zadanie 4"
   ]
  },
  {
   "cell_type": "markdown",
   "metadata": {},
   "source": [
    "## Zadanie 5"
   ]
  },
  {
   "cell_type": "markdown",
   "metadata": {},
   "source": [
    "5.\tDany jest sygnał dyskretny\r\n",
    "x = [3, -4]\r\n",
    ". Znajdź jego 2-punktową DFT. Naszkicuj moduł widma w\r\n",
    "zakresie k = +-3\r\n",
    "sum(x(n)exp(-j*(2pi/N) *k*n))"
   ]
  },
  {
   "cell_type": "code",
   "execution_count": 2,
   "metadata": {},
   "outputs": [
    {
     "name": "stdout",
     "output_type": "stream",
     "text": [
      "[4.+0.j]\n",
      "[-3.+0.j]\n",
      "[4.+0.j]\n",
      "[3.+3.6739404e-16j]\n"
     ]
    },
    {
     "data": {
      "text/plain": "[array([1.+0.j]), array([7.+3.6739404e-16j])]"
     },
     "execution_count": 2,
     "metadata": {},
     "output_type": "execute_result"
    }
   ],
   "source": [
    "import numpy as np\r\n",
    "\r\n",
    "s = [4, -3] \r\n",
    "N = len(s) \r\n",
    "S = [0 for _ in range(N)]\r\n",
    "for i in range(N):\r\n",
    "    for j in range(N):\r\n",
    "        tmp = [((0-1j)*(2*np.pi*i*j)) / N]\r\n",
    "        S[i] += s[j] * np.exp(tmp)\r\n",
    "        print(s[j] * np.exp(tmp))\r\n",
    "S"
   ]
  },
  {
   "cell_type": "code",
   "execution_count": 3,
   "metadata": {},
   "outputs": [
    {
     "data": {
      "text/plain": "[1, 7]"
     },
     "execution_count": 3,
     "metadata": {},
     "output_type": "execute_result"
    }
   ],
   "source": [
    "import sympy as sym\r\n",
    "\r\n",
    "x = sym.symbols(\"x\")\r\n",
    "sym.fft([4, -3], 2)"
   ]
  },
  {
   "cell_type": "markdown",
   "metadata": {},
   "source": [
    "## Zadanie 6"
   ]
  },
  {
   "cell_type": "markdown",
   "metadata": {},
   "source": [
    "6.\tDane jest DFT pewnego sygnału dyskretnego\r\n",
    "x = [-1, 7]\r\n",
    ". Znajdź próbki tego sygnału.\r\n",
    "\r\n",
    "sum(1/N * x(n)exp(-j*(2pi/N) *k*n))\r\n"
   ]
  },
  {
   "cell_type": "code",
   "execution_count": 52,
   "metadata": {},
   "outputs": [
    {
     "data": {
      "text/plain": "[3.0, -4.0]"
     },
     "execution_count": 52,
     "metadata": {},
     "output_type": "execute_result"
    }
   ],
   "source": [
    "import sympy as sym\r\n",
    "\r\n",
    "x = sym.symbols(\"x\")\r\n",
    "sym.ifft([-1, 7], 2)"
   ]
  },
  {
   "cell_type": "code",
   "execution_count": 129,
   "metadata": {},
   "outputs": [
    {
     "name": "stdout",
     "output_type": "stream",
     "text": [
      "[-0.5+0.j]\n",
      "[3.5+0.j]\n",
      "[-0.5+0.j]\n",
      "[-3.5-4.2862638e-16j]\n"
     ]
    },
    {
     "data": {
      "text/plain": "[array([3.+0.j]), array([-4.-4.2862638e-16j])]"
     },
     "execution_count": 129,
     "metadata": {},
     "output_type": "execute_result"
    }
   ],
   "source": [
    "s = [-1, 7] \r\n",
    "N = len(s) \r\n",
    "S = [0 for _ in range(N)]\r\n",
    "for i in range(N):\r\n",
    "    for j in range(N):\r\n",
    "        tmp = [((0-1j)*(2*np.pi*i*j)) / N]\r\n",
    "        S[i] += (1/N) * s[j] * np.exp(tmp)\r\n",
    "        print((1/N) * s[j] * np.exp(tmp))\r\n",
    "S"
   ]
  },
  {
   "cell_type": "markdown",
   "metadata": {},
   "source": [
    "## Zadanie 7"
   ]
  },
  {
   "cell_type": "markdown",
   "metadata": {},
   "source": [
    "\r\n",
    "7.\tDługość rekordu danych do analizy cyfrowej widmowej wynosi N=4096. Oszacuj, ile razy szybciej\r\n",
    "zostanie wyznaczone widmo metodą FFT w porównaniu z DFT."
   ]
  },
  {
   "cell_type": "code",
   "execution_count": 10,
   "metadata": {},
   "outputs": [
    {
     "name": "stdout",
     "output_type": "stream",
     "text": [
      "DFT_speed=N*(N - 1) = 67100672.0000000\n",
      "FFT_speed=N*log(N)/(2*log(2)) = 53248.0000000000\n"
     ]
    },
    {
     "data": {
      "text/latex": "$\\displaystyle 1260.15384615385$",
      "text/plain": "1260.15384615385"
     },
     "execution_count": 10,
     "metadata": {},
     "output_type": "execute_result"
    }
   ],
   "source": [
    "import sympy as sym\r\n",
    "\r\n",
    "x = sym.symbols(\"x\")\r\n",
    "N = sym.symbols(\"N\")\r\n",
    "n = 8192\r\n",
    "DFT_speed = N * (N-1) #N**2\r\n",
    "FFT_speed = N/2 * sym.log(N, 2) #log_2 (N)\r\n",
    "print(f\"{DFT_speed=} = {DFT_speed.evalf(subs={N:n})}\")\r\n",
    "print(f\"{FFT_speed=} = {FFT_speed.evalf(subs={N:n})}\")\r\n",
    "DFT_speed.evalf(subs={N:n}) / FFT_speed.evalf(subs={N:n})"
   ]
  },
  {
   "cell_type": "markdown",
   "metadata": {},
   "source": [
    "## Zadanie 8"
   ]
  },
  {
   "cell_type": "markdown",
   "metadata": {},
   "source": [
    "\r\n",
    "8.\tDokonaj przemieszania podanych w kolejności naturalnej indeksów próbek sygnału o długości N=8\r\n",
    "poddawanego cyfrowej analizie widmowej za pomocą algorytmu FFT DIT radix-2."
   ]
  },
  {
   "cell_type": "code",
   "execution_count": 78,
   "metadata": {},
   "outputs": [
    {
     "name": "stdout",
     "output_type": "stream",
     "text": [
      "[0, 2, 4, 6]\n",
      "[1, 3, 5, 7]\n"
     ]
    }
   ],
   "source": [
    "N = 8\r\n",
    "print([i for i in range(0, N, 2)])\r\n",
    "print([i for i in range(1, N, 2)])"
   ]
  },
  {
   "cell_type": "markdown",
   "metadata": {},
   "source": [
    "## Zadanie 9"
   ]
  },
  {
   "cell_type": "markdown",
   "metadata": {},
   "source": [
    "\r\n",
    "9.\tNapisz transmitancję operatorową układu jak na rysunku.\r\n",
    "Znajdź jego transmitancję widmową i naszkicuj charakterystykę\r\n",
    "amplitudową"
   ]
  },
  {
   "cell_type": "code",
   "execution_count": 105,
   "metadata": {},
   "outputs": [
    {
     "data": {
      "text/latex": "$\\displaystyle \\mathcal{L}^{-1}_{s}\\left[\\frac{s}{s + 1}\\right]\\left(t\\right)$",
      "text/plain": "InverseLaplaceTransform(s/(s + 1), s, t, _None)"
     },
     "execution_count": 105,
     "metadata": {},
     "output_type": "execute_result"
    }
   ],
   "source": [
    "import sympy as sym\r\n",
    "\r\n",
    "s = sym.symbols(\"s\")\r\n",
    "t = sym.symbols(\"t\")\r\n",
    "Hs = s / (s + 1)\r\n",
    "sym.inverse_laplace_transform(Hs, s, t)\r\n"
   ]
  },
  {
   "cell_type": "markdown",
   "metadata": {},
   "source": [
    "## Zadanie 10 "
   ]
  },
  {
   "cell_type": "markdown",
   "metadata": {},
   "source": [
    "\r\n",
    "10. Dana jest transmitacja filtru analogowego:"
   ]
  },
  {
   "cell_type": "code",
   "execution_count": 67,
   "metadata": {},
   "outputs": [
    {
     "data": {
      "text/plain": "[2, 3]"
     },
     "execution_count": 67,
     "metadata": {},
     "output_type": "execute_result"
    }
   ],
   "source": [
    "import sympy as sym\r\n",
    "\r\n",
    "s = sym.symbols(\"s\")\r\n",
    "t = sym.symbols(\"t\")\r\n",
    "Hs = 1/(s**2 - 5*s + 6)\r\n",
    "sym.inverse_laplace_transform(Hs,s, t)\r\n",
    "sym.solve((s**2 - 5*s + 6))"
   ]
  },
  {
   "cell_type": "markdown",
   "metadata": {},
   "source": [
    "## Zadanie 11"
   ]
  },
  {
   "cell_type": "markdown",
   "metadata": {},
   "source": [
    " Napisz transmitancję operatorową H(z) układu jak na rysunku."
   ]
  },
  {
   "cell_type": "code",
   "execution_count": 15,
   "metadata": {},
   "outputs": [
    {
     "data": {
      "text/latex": "$\\displaystyle \\frac{4}{1 - \\frac{0.5}{z}}$",
      "text/plain": "4/(1 - 0.5/z)"
     },
     "execution_count": 15,
     "metadata": {},
     "output_type": "execute_result"
    }
   ],
   "source": [
    "import sympy as sym\r\n",
    "\r\n",
    "a1 = -0.5\r\n",
    "b1 = 0\r\n",
    "b0 = 4\r\n",
    "z = sym.symbols(\"z\")\r\n",
    "\r\n",
    "(b0 + b1 * z**-1)/(1 + a1*z**-1)\r\n"
   ]
  },
  {
   "cell_type": "markdown",
   "metadata": {},
   "source": [
    "## Zadanie 12"
   ]
  },
  {
   "cell_type": "markdown",
   "metadata": {},
   "source": [
    "\r\n",
    "12.. Znajdź odpowiedź układu cyfrowego o transmitancji\r\n",
    "H(z) = (4*z + 3) / (z- 0.5)\r\n",
    "na wymuszenie składową stałą o\r\n",
    "wartości 1."
   ]
  },
  {
   "cell_type": "code",
   "execution_count": 74,
   "metadata": {},
   "outputs": [
    {
     "data": {
      "text/latex": "$\\displaystyle \\frac{4 z + 3}{z - 0.5}$",
      "text/plain": "(4*z + 3)/(z - 0.5)"
     },
     "execution_count": 74,
     "metadata": {},
     "output_type": "execute_result"
    }
   ],
   "source": [
    "import sympy as sym\r\n",
    "\r\n",
    "z = sym.symbols(\"z\")\r\n",
    "Hz = (4*z + 3) / (z - 0.5)\r\n",
    "Hz"
   ]
  },
  {
   "cell_type": "code",
   "execution_count": 27,
   "metadata": {},
   "outputs": [
    {
     "data": {
      "text/plain": "array([4., 3., 0., 0., 0., 0.])"
     },
     "execution_count": 27,
     "metadata": {},
     "output_type": "execute_result"
    }
   ],
   "source": [
    "from scipy import signal\r\n",
    "\r\n",
    "a = [1.]\r\n",
    "b = [4, 3]\r\n",
    "xn = [1,0,0,0,0,0]\r\n",
    "z = signal.lfilter(b, a, xn)\r\n",
    "z\r\n"
   ]
  },
  {
   "cell_type": "code",
   "execution_count": 24,
   "metadata": {},
   "outputs": [
    {
     "data": {
      "text/latex": "$\\displaystyle -1$",
      "text/plain": "-1"
     },
     "execution_count": 24,
     "metadata": {},
     "output_type": "execute_result"
    }
   ],
   "source": [
    "sym.exp(sym.pi * sym.I)"
   ]
  },
  {
   "cell_type": "code",
   "execution_count": 25,
   "metadata": {},
   "outputs": [
    {
     "data": {
      "text/latex": "$\\displaystyle - i \\left(1 + i\\right)$",
      "text/plain": "-I*(1 + I)"
     },
     "execution_count": 25,
     "metadata": {},
     "output_type": "execute_result"
    }
   ],
   "source": [
    "(1+ sym.I)/ (sym.I)"
   ]
  },
  {
   "cell_type": "markdown",
   "metadata": {},
   "source": [
    "## Zadanie 13"
   ]
  },
  {
   "cell_type": "markdown",
   "metadata": {},
   "source": [
    "Średnia intensywność wystąpienia zgłoszenia w SMO jest równa 0,027. Prawdopodobieństwo wystąpienia w czasie 14,7 s kolejnego zgłoszenia w tym systemie wynosi"
   ]
  },
  {
   "cell_type": "markdown",
   "metadata": {},
   "source": [
    "## Zadanie 17"
   ]
  },
  {
   "cell_type": "markdown",
   "metadata": {},
   "source": [
    "Znajdź transformatę Z sygnału oraz obszar jej zbieżności: x(n) = 1 dla n= 5"
   ]
  },
  {
   "cell_type": "code",
   "execution_count": null,
   "metadata": {},
   "outputs": [],
   "source": [
    "import sympy as sym\r\n",
    "\r\n",
    "x = [0, 0, 0, 0, 1]\r\n",
    "\r\n",
    "\r\n",
    "def z_transform(expr,n_symbol, start=0, stop=100):\r\n",
    "    '''Uses the z transform defination to get its summation, use \".doit()\" on the return value\r\n",
    "    to evaluate the summation\r\n",
    "    '''\r\n",
    "    z = sym.symbols('z')\r\n",
    "    return sym.Sum(expr.replace(n_symbol, k)*z**(-k),(k,start,stop))\r\n",
    "n = sym.symbols('n')\r\n",
    "z_transform(3*sym.DiracDelta(n-2), n ,0, 100).doit()\r\n"
   ]
  },
  {
   "cell_type": "markdown",
   "metadata": {},
   "source": [
    "## Zadanie 16"
   ]
  },
  {
   "cell_type": "markdown",
   "metadata": {},
   "source": [
    "Dana jest odpowiedź impulsowa h(n) filtru SOI oraz sygnał x(n) podany na jego wejście. Narysuj\r\n",
    "odpowiedź tego filtru.\r\n",
    "\r\n",
    "sum ( x[k] * h[n-k] )"
   ]
  },
  {
   "cell_type": "code",
   "execution_count": 11,
   "metadata": {},
   "outputs": [
    {
     "name": "stdout",
     "output_type": "stream",
     "text": [
      "y1\n",
      "0 = 1 * 4\n",
      "y2\n",
      "0 = 1 * 3\n",
      "y2\n",
      "3 = 0 * 4\n",
      "y3\n",
      "0 = 1 * 2\n",
      "y3\n",
      "2 = 0 * 3\n",
      "y3\n",
      "2 = 0 * 4\n",
      "y4\n",
      "0 = 1 * 1\n",
      "y4\n",
      "1 = 0 * 2\n",
      "y4\n",
      "1 = 0 * 3\n",
      "y4\n",
      "1 = 0 * 4\n"
     ]
    },
    {
     "data": {
      "text/plain": "[0, 4, 3, 2, 1]"
     },
     "execution_count": 11,
     "metadata": {},
     "output_type": "execute_result"
    }
   ],
   "source": [
    "h = [4,3,2,1]\r\n",
    "x  = [1,0,0,0]\r\n",
    "y = [0 for _ in range(5)]\r\n",
    "for i in range(5):\r\n",
    "    for j, k in zip(range(i), reversed(range(i))):\r\n",
    "        print(f\"y{i}\")\r\n",
    "        print(f\"{y[i]} = {x[j]} * {h[k]}\")\r\n",
    "        y[i] += x[j] *  h[k]\r\n",
    "        \r\n",
    "y"
   ]
  },
  {
   "cell_type": "code",
   "execution_count": 12,
   "metadata": {},
   "outputs": [
    {
     "data": {
      "text/plain": "array([4, 3, 2, 1, 0, 0, 0])"
     },
     "execution_count": 12,
     "metadata": {},
     "output_type": "execute_result"
    }
   ],
   "source": [
    "import numpy as np \r\n",
    "np.convolve(h, x)"
   ]
  },
  {
   "cell_type": "code",
   "execution_count": 13,
   "metadata": {},
   "outputs": [
    {
     "data": {
      "text/plain": "1.063014581273465"
     },
     "execution_count": 13,
     "metadata": {},
     "output_type": "execute_result"
    }
   ],
   "source": [
    "(0.8**2 + 0.7**2)**(0.5)"
   ]
  },
  {
   "cell_type": "markdown",
   "metadata": {},
   "source": [
    "## Zadanie 19"
   ]
  },
  {
   "cell_type": "code",
   "execution_count": 142,
   "metadata": {},
   "outputs": [
    {
     "data": {
      "text/latex": "$\\displaystyle \\frac{6}{-9 + \\frac{60000.0 \\left(1 + \\frac{1}{z}\\right)}{1 - \\frac{1}{z}}}$",
      "text/plain": "6/(-9 + 60000.0*(1 + 1/z)/(1 - 1/z))"
     },
     "execution_count": 142,
     "metadata": {},
     "output_type": "execute_result"
    }
   ],
   "source": [
    "import sympy as sym\r\n",
    "s = sym.symbols(\"s\")\r\n",
    "z = sym.symbols(\"z\")\r\n",
    "T = 0.1/1000\r\n",
    "\r\n",
    "\r\n",
    "Hz = 6/(3*s-9)\r\n",
    "Hz.subs(s,((2/T)/((1-z**-1)/(1+z**-1))))"
   ]
  },
  {
   "cell_type": "code",
   "execution_count": null,
   "metadata": {},
   "outputs": [],
   "source": []
  }
 ],
 "metadata": {
  "kernelspec": {
   "display_name": "Python 3",
   "language": "python",
   "name": "python3"
  },
  "language_info": {
   "codemirror_mode": {
    "name": "ipython",
    "version": 3
   },
   "file_extension": ".py",
   "mimetype": "text/x-python",
   "name": "python",
   "nbconvert_exporter": "python",
   "pygments_lexer": "ipython3",
   "version": "3.8.2"
  },
  "orig_nbformat": 2
 },
 "nbformat": 4,
 "nbformat_minor": 2
}