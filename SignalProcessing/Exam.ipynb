{
 "cells": [
  {
   "cell_type": "markdown",
   "metadata": {},
   "source": [
    "<a href=\"https://colab.research.google.com/github/PrzemyslawSarnacki/NumericalMethods/blob/master/Stochastic/Exam.ipynb\" target=\"_parent\">\r\n",
    "  <img src=\"https://colab.research.google.com/assets/colab-badge.svg\" alt=\"Open In Colab\"/>\r\n",
    "</a>"
   ]
  },
  {
   "cell_type": "code",
   "execution_count": 19,
   "metadata": {},
   "outputs": [],
   "source": [
    "import math\r\n",
    "import matplotlib.pyplot as plt\r\n",
    "import numpy as np\r\n",
    "import scipy.interpolate\r\n"
   ]
  },
  {
   "cell_type": "markdown",
   "metadata": {},
   "source": [
    "## Zadanie 1"
   ]
  },
  {
   "cell_type": "markdown",
   "metadata": {},
   "source": [
    "\r\n",
    "1. Wyznacz całkowe przekształcenie Fouriera sygnału x(t)=exp(-3|x|)"
   ]
  },
  {
   "cell_type": "code",
   "execution_count": 149,
   "metadata": {},
   "outputs": [
    {
     "data": {
      "text/latex": "$\\displaystyle \\frac{6}{4 \\pi^{2} w^{2} + 9}$",
      "text/plain": "6/(4*pi**2*w**2 + 9)"
     },
     "execution_count": 149,
     "metadata": {},
     "output_type": "execute_result"
    }
   ],
   "source": [
    "import sympy as sym\r\n",
    "\r\n",
    "x = sym.symbols(\"x\")\r\n",
    "w = sym.symbols(\"w\")\r\n",
    "\r\n",
    "sym.fourier_transform(sym.exp(-3*sym.Abs(x)), x, w)"
   ]
  },
  {
   "cell_type": "code",
   "execution_count": 153,
   "metadata": {},
   "outputs": [
    {
     "data": {
      "text/latex": "$\\displaystyle \\int e^{i w x} e^{- 3 \\left|{x}\\right|}\\, dx$",
      "text/plain": "Integral(exp(I*w*x)*exp(-3*Abs(x)), x)"
     },
     "execution_count": 153,
     "metadata": {},
     "output_type": "execute_result"
    }
   ],
   "source": [
    "sym.integrate(sym.exp(-3*sym.Abs(x))*sym.exp(sym.I*w*x), x)"
   ]
  },
  {
   "cell_type": "markdown",
   "metadata": {},
   "source": [
    "## Zadanie 2"
   ]
  },
  {
   "cell_type": "markdown",
   "metadata": {},
   "source": [
    "\r\n",
    "2.\tOkreśl wymaganą rozdzielczość przetwornika A/C dla uzyskania stosunku sygnał/szum kwantyzacji\r\n",
    "na poziomie 55dB"
   ]
  },
  {
   "cell_type": "code",
   "execution_count": 35,
   "metadata": {},
   "outputs": [
    {
     "data": {
      "text/plain": "9.135302260940247"
     },
     "execution_count": 35,
     "metadata": {},
     "output_type": "execute_result"
    }
   ],
   "source": [
    "# SQNR = 20*math.log(2**1, 10)\r\n",
    "SQNR = 55\r\n",
    "Q = SQNR / (20*math.log(2, 10))\r\n",
    "Q"
   ]
  },
  {
   "cell_type": "markdown",
   "metadata": {},
   "source": [
    "W przypadku sinusoidy"
   ]
  },
  {
   "cell_type": "code",
   "execution_count": 38,
   "metadata": {},
   "outputs": [
    {
     "data": {
      "text/plain": "8.842806492185415"
     },
     "execution_count": 38,
     "metadata": {},
     "output_type": "execute_result"
    }
   ],
   "source": [
    "SQNR = 55\r\n",
    "Q = (SQNR - 1.761) / (20*math.log(2, 10))\r\n",
    "Q"
   ]
  },
  {
   "cell_type": "markdown",
   "metadata": {},
   "source": [
    "## Zadanie 3"
   ]
  },
  {
   "cell_type": "markdown",
   "metadata": {},
   "source": [
    "\r\n",
    "3.\tSygnał losowy o rozkładzie równomiernym przyjmuje wartości w zakresie od -8 mV do 13 mV. Wartość skuteczna tego sygnału wynosi: a)… b) …c) … d) … e) …;\r\n"
   ]
  },
  {
   "cell_type": "code",
   "execution_count": 14,
   "metadata": {},
   "outputs": [
    {
     "data": {
      "text/latex": "$\\displaystyle \\sqrt{43}$",
      "text/plain": "sqrt(43)"
     },
     "execution_count": 14,
     "metadata": {},
     "output_type": "execute_result"
    }
   ],
   "source": [
    "import sympy as sym\r\n",
    "\r\n",
    "x = sym.symbols(\"x\")\r\n",
    "\r\n",
    "xmin = -8\r\n",
    "xmax = 13\r\n",
    "C0 = sym.integrate(1, (x, xmin, xmax)) ** -1\r\n",
    "msk = sym.sqrt(sym.integrate(C0 * x**2, (x, xmin, xmax)))\r\n",
    "msk"
   ]
  },
  {
   "cell_type": "code",
   "execution_count": 15,
   "metadata": {},
   "outputs": [
    {
     "data": {
      "text/latex": "$\\displaystyle 6.557438524302$",
      "text/plain": "6.55743852430200"
     },
     "execution_count": 15,
     "metadata": {},
     "output_type": "execute_result"
    }
   ],
   "source": [
    "msk.evalf()"
   ]
  },
  {
   "cell_type": "code",
   "execution_count": 16,
   "metadata": {},
   "outputs": [
    {
     "data": {
      "text/latex": "$\\displaystyle \\frac{1}{21}$",
      "text/plain": "1/21"
     },
     "execution_count": 16,
     "metadata": {},
     "output_type": "execute_result"
    }
   ],
   "source": [
    "C0"
   ]
  },
  {
   "cell_type": "markdown",
   "metadata": {},
   "source": [
    "## Zadanie 4"
   ]
  },
  {
   "cell_type": "markdown",
   "metadata": {},
   "source": [
    "\r\n",
    "4.\tWartość skuteczna szumu białego wynosi 3 mV. Gęstość prawdopodobieństwa wartości chwilowych tego sygnału przyjmuje wartość maksymalną równą: a)… b) …c) … d) … e) …;\r\n"
   ]
  },
  {
   "cell_type": "code",
   "execution_count": 18,
   "metadata": {},
   "outputs": [
    {
     "data": {
      "text/latex": "$\\displaystyle 132.980760133811$",
      "text/plain": "132.980760133811"
     },
     "execution_count": 18,
     "metadata": {},
     "output_type": "execute_result"
    }
   ],
   "source": [
    "x = sym.symbols(\"x\")\r\n",
    "\r\n",
    "fmax = 3E-3\r\n",
    "# gaussian distribution\r\n",
    "fgn = sym.exp(-(x ** 2) / (2 * 2 * fmax ** 2)) / (fmax * sym.sqrt(2 * sym.pi))\r\n",
    "\r\n",
    "# max value is in the x = 0\r\n",
    "fgn.evalf(subs={x: 0})\r\n"
   ]
  },
  {
   "cell_type": "code",
   "execution_count": 22,
   "metadata": {},
   "outputs": [
    {
     "data": {
      "text/latex": "$\\displaystyle \\frac{166.666666666667 \\sqrt{2} e^{- 27777.7777777778 x^{2}}}{\\sqrt{\\pi}}$",
      "text/plain": "166.666666666667*sqrt(2)*exp(-27777.7777777778*x**2)/sqrt(pi)"
     },
     "execution_count": 22,
     "metadata": {},
     "output_type": "execute_result"
    }
   ],
   "source": [
    "fgn"
   ]
  },
  {
   "cell_type": "markdown",
   "metadata": {},
   "source": [
    "## Zadanie 5"
   ]
  },
  {
   "cell_type": "markdown",
   "metadata": {},
   "source": [
    "\r\n",
    "5.\tDany jest sygnał dyskretny\r\n",
    "x = [3, -4]\r\n",
    ". Znajdź jego 2-punktową DFT. Naszkicuj moduł widma w\r\n",
    "zakresie k = +-3"
   ]
  },
  {
   "cell_type": "code",
   "execution_count": 96,
   "metadata": {},
   "outputs": [
    {
     "name": "stdout",
     "output_type": "stream",
     "text": [
      "[3.+0.j]\n",
      "[-4.+0.j]\n",
      "[3.+0.j]\n",
      "[4.+4.8985872e-16j]\n"
     ]
    },
    {
     "data": {
      "text/plain": "[array([-1.+0.j]), array([7.+4.8985872e-16j])]"
     },
     "execution_count": 96,
     "metadata": {},
     "output_type": "execute_result"
    }
   ],
   "source": [
    "s = [3, -4] \r\n",
    "N = len(s) \r\n",
    "S = [0 for _ in range(N)]\r\n",
    "for i in range(N):\r\n",
    "    for j in range(N):\r\n",
    "        tmp = [((0-1j)*(2*np.pi*i*j)) / N]\r\n",
    "        S[i] += s[j] * np.exp(tmp)\r\n",
    "        print(s[j] * np.exp(tmp))\r\n",
    "S"
   ]
  },
  {
   "cell_type": "code",
   "execution_count": 107,
   "metadata": {},
   "outputs": [
    {
     "data": {
      "text/plain": "[-1, 7]"
     },
     "execution_count": 107,
     "metadata": {},
     "output_type": "execute_result"
    }
   ],
   "source": [
    "import sympy as sym\r\n",
    "\r\n",
    "x = sym.symbols(\"x\")\r\n",
    "sym.fft([3, -4], 2)"
   ]
  },
  {
   "cell_type": "markdown",
   "metadata": {},
   "source": [
    "## Zadanie 6"
   ]
  },
  {
   "cell_type": "markdown",
   "metadata": {},
   "source": [
    "\r\n",
    "6.\tDane jest DFT pewnego sygnału dyskretnego\r\n",
    "x = [-1, 7]\r\n",
    ". Znajdź próbki tego sygnału."
   ]
  },
  {
   "cell_type": "code",
   "execution_count": 52,
   "metadata": {},
   "outputs": [
    {
     "data": {
      "text/plain": "[3.0, -4.0]"
     },
     "execution_count": 52,
     "metadata": {},
     "output_type": "execute_result"
    }
   ],
   "source": [
    "import sympy as sym\r\n",
    "\r\n",
    "x = sym.symbols(\"x\")\r\n",
    "sym.ifft([-1, 7], 2)"
   ]
  },
  {
   "cell_type": "code",
   "execution_count": 129,
   "metadata": {},
   "outputs": [
    {
     "name": "stdout",
     "output_type": "stream",
     "text": [
      "[-0.5+0.j]\n",
      "[3.5+0.j]\n",
      "[-0.5+0.j]\n",
      "[-3.5-4.2862638e-16j]\n"
     ]
    },
    {
     "data": {
      "text/plain": "[array([3.+0.j]), array([-4.-4.2862638e-16j])]"
     },
     "execution_count": 129,
     "metadata": {},
     "output_type": "execute_result"
    }
   ],
   "source": [
    "s = [-1, 7] \r\n",
    "N = len(s) \r\n",
    "S = [0 for _ in range(N)]\r\n",
    "for i in range(N):\r\n",
    "    for j in range(N):\r\n",
    "        tmp = [((0-1j)*(2*np.pi*i*j)) / N]\r\n",
    "        S[i] += (1/N) * s[j] * np.exp(tmp)\r\n",
    "        print((1/N) * s[j] * np.exp(tmp))\r\n",
    "S"
   ]
  },
  {
   "cell_type": "markdown",
   "metadata": {},
   "source": [
    "## Zadanie 7"
   ]
  },
  {
   "cell_type": "markdown",
   "metadata": {},
   "source": [
    "\r\n",
    "7.\tDługość rekordu danych do analizy cyfrowej widmowej wynosi N=4096. Oszacuj, ile razy szybciej\r\n",
    "zostanie wyznaczone widmo metodą FFT w porównaniu z DFT."
   ]
  },
  {
   "cell_type": "code",
   "execution_count": 56,
   "metadata": {},
   "outputs": [
    {
     "name": "stdout",
     "output_type": "stream",
     "text": [
      "DFT_speed=N = 4096.00000000000\n",
      "FFT_speed=log(N)/log(2) = 12.0000000000000\n"
     ]
    },
    {
     "data": {
      "text/latex": "$\\displaystyle 341.333333333333$",
      "text/plain": "341.333333333333"
     },
     "execution_count": 56,
     "metadata": {},
     "output_type": "execute_result"
    }
   ],
   "source": [
    "import sympy as sym\r\n",
    "\r\n",
    "x = sym.symbols(\"x\")\r\n",
    "N = sym.symbols(\"N\")\r\n",
    "n = 4096\r\n",
    "DFT_speed = N #N**2\r\n",
    "FFT_speed = sym.log(N, 2) #log_2 (N)\r\n",
    "print(f\"{DFT_speed=} = {DFT_speed.evalf(subs={N:n})}\")\r\n",
    "print(f\"{FFT_speed=} = {FFT_speed.evalf(subs={N:n})}\")\r\n",
    "DFT_speed.evalf(subs={N:n}) / FFT_speed.evalf(subs={N:n})"
   ]
  },
  {
   "cell_type": "markdown",
   "metadata": {},
   "source": [
    "## Zadanie 8"
   ]
  },
  {
   "cell_type": "markdown",
   "metadata": {},
   "source": [
    "\r\n",
    "8.\tDokonaj przemieszania podanych w kolejności naturalnej indeksów próbek sygnału o długości N=8\r\n",
    "poddawanego cyfrowej analizie widmowej za pomocą algorytmu FFT DIT radix-2."
   ]
  },
  {
   "cell_type": "code",
   "execution_count": 78,
   "metadata": {},
   "outputs": [
    {
     "name": "stdout",
     "output_type": "stream",
     "text": [
      "[0, 2, 4, 6]\n",
      "[1, 3, 5, 7]\n"
     ]
    }
   ],
   "source": [
    "N = 8\r\n",
    "print([i for i in range(0, N, 2)])\r\n",
    "print([i for i in range(1, N, 2)])"
   ]
  },
  {
   "cell_type": "markdown",
   "metadata": {},
   "source": [
    "## Zadanie 9"
   ]
  },
  {
   "cell_type": "markdown",
   "metadata": {},
   "source": [
    "\r\n",
    "9.\tNapisz transmitancję operatorową układu jak na rysunku.\r\n",
    "Znajdź jego transmitancję widmową i naszkicuj charakterystykę\r\n",
    "amplitudową"
   ]
  },
  {
   "cell_type": "code",
   "execution_count": 105,
   "metadata": {},
   "outputs": [
    {
     "data": {
      "text/latex": "$\\displaystyle \\mathcal{L}^{-1}_{s}\\left[\\frac{s}{s + 1}\\right]\\left(t\\right)$",
      "text/plain": "InverseLaplaceTransform(s/(s + 1), s, t, _None)"
     },
     "execution_count": 105,
     "metadata": {},
     "output_type": "execute_result"
    }
   ],
   "source": [
    "import sympy as sym\r\n",
    "\r\n",
    "s = sym.symbols(\"s\")\r\n",
    "t = sym.symbols(\"t\")\r\n",
    "Hs = s / (s + 1)\r\n",
    "sym.inverse_laplace_transform(Hs, s, t)\r\n"
   ]
  },
  {
   "cell_type": "markdown",
   "metadata": {},
   "source": [
    "## Zadanie 10 "
   ]
  },
  {
   "cell_type": "markdown",
   "metadata": {},
   "source": [
    "\r\n",
    "10. Dana jest transmitacja filtru analogowego:"
   ]
  },
  {
   "cell_type": "code",
   "execution_count": 67,
   "metadata": {},
   "outputs": [
    {
     "data": {
      "text/plain": "[2, 3]"
     },
     "execution_count": 67,
     "metadata": {},
     "output_type": "execute_result"
    }
   ],
   "source": [
    "import sympy as sym\r\n",
    "\r\n",
    "s = sym.symbols(\"s\")\r\n",
    "t = sym.symbols(\"t\")\r\n",
    "Hs = 1/(s**2 - 5*s + 6)\r\n",
    "sym.inverse_laplace_transform(Hs,s, t)\r\n",
    "sym.solve((s**2 - 5*s + 6))"
   ]
  },
  {
   "cell_type": "markdown",
   "metadata": {},
   "source": [
    "## Zadanie 11"
   ]
  },
  {
   "cell_type": "markdown",
   "metadata": {},
   "source": [
    "\r\n",
    "11.\tNa wyjściu filtru dopasowanego występuje szum biały o widmowej gęstości mocy równej \r\n",
    "93 pV2/Hz. Filtr dopasowany jest do impulsu opisanego funkcją trójkątną (trójkąt równoramienny) o czasie trwania równym 2 ms i amplitudzie równej 23 mV. Maksymalna wartość stosunku mocy tego sygnału do mocy szumu wynosi: a)… b) …c) … d) … e) …;\r\n"
   ]
  },
  {
   "cell_type": "markdown",
   "metadata": {},
   "source": [
    "## Zadanie 12"
   ]
  },
  {
   "cell_type": "markdown",
   "metadata": {},
   "source": [
    "\r\n",
    "12.. Znajdź odpowiedź układu cyfrowego o transmitancji\r\n",
    "H(z) = (4*z + 3) / (z- 0.5)\r\n",
    "na wymuszenie składową stałą o\r\n",
    "wartości 1."
   ]
  },
  {
   "cell_type": "code",
   "execution_count": 74,
   "metadata": {},
   "outputs": [
    {
     "data": {
      "text/latex": "$\\displaystyle \\frac{4 z + 3}{z - 0.5}$",
      "text/plain": "(4*z + 3)/(z - 0.5)"
     },
     "execution_count": 74,
     "metadata": {},
     "output_type": "execute_result"
    }
   ],
   "source": [
    "import sympy as sym\r\n",
    "\r\n",
    "z = sym.symbols(\"z\")\r\n",
    "Hz = (4*z + 3) / (z - 0.5)\r\n",
    "Hz"
   ]
  },
  {
   "cell_type": "markdown",
   "metadata": {},
   "source": [
    "## Zadanie 13"
   ]
  },
  {
   "cell_type": "markdown",
   "metadata": {},
   "source": [
    "Średnia intensywność wystąpienia zgłoszenia w SMO jest równa 0,027. Prawdopodobieństwo wystąpienia w czasie 14,7 s kolejnego zgłoszenia w tym systemie wynosi"
   ]
  },
  {
   "cell_type": "markdown",
   "metadata": {},
   "source": [
    "## Zadanie 17"
   ]
  },
  {
   "cell_type": "markdown",
   "metadata": {},
   "source": [
    "Znajdź transformatę Z sygnału oraz obszar jej zbieżności: x(n) = 1 dla n= 5"
   ]
  },
  {
   "cell_type": "code",
   "execution_count": null,
   "metadata": {},
   "outputs": [],
   "source": [
    "import sympy as sym\r\n",
    "\r\n",
    "x = [0, 0, 0, 0, 1]\r\n",
    "\r\n",
    "\r\n",
    "def z_transform(expr,n_symbol, start=0, stop=100):\r\n",
    "    '''Uses the z transform defination to get its summation, use \".doit()\" on the return value\r\n",
    "    to evaluate the summation\r\n",
    "    '''\r\n",
    "    z = sym.symbols('z')\r\n",
    "    return sym.Sum(expr.replace(n_symbol, k)*z**(-k),(k,start,stop))\r\n",
    "n = sym.symbols('n')\r\n",
    "z_transform(3*sym.DiracDelta(n-2), n ,0, 100).doit()\r\n"
   ]
  },
  {
   "cell_type": "markdown",
   "metadata": {},
   "source": [
    "## Zadanie 16"
   ]
  },
  {
   "cell_type": "markdown",
   "metadata": {},
   "source": [
    "Dana jest odpowiedź impulsowa h(n) filtru SOI oraz sygnał x(n) podany na jego wejście. Narysuj\r\n",
    "odpowiedź tego filtru."
   ]
  },
  {
   "cell_type": "code",
   "execution_count": 125,
   "metadata": {},
   "outputs": [
    {
     "data": {
      "text/plain": "[0, 4, 5, 7, 4]"
     },
     "execution_count": 125,
     "metadata": {},
     "output_type": "execute_result"
    }
   ],
   "source": [
    "h = [4,1,2,1]\r\n",
    "x  = [1,1,1,0]\r\n",
    "y = [0 for _ in range(5)]\r\n",
    "for i in range(5):\r\n",
    "    for j, k in zip(range(i), reversed(range(i))):\r\n",
    "        y[i] += x[j] *  h[k]\r\n",
    "        \r\n",
    "y"
   ]
  },
  {
   "cell_type": "markdown",
   "metadata": {},
   "source": [
    "## Zadanie 19"
   ]
  },
  {
   "cell_type": "code",
   "execution_count": 142,
   "metadata": {},
   "outputs": [
    {
     "data": {
      "text/latex": "$\\displaystyle \\frac{6}{-9 + \\frac{60000.0 \\left(1 + \\frac{1}{z}\\right)}{1 - \\frac{1}{z}}}$",
      "text/plain": "6/(-9 + 60000.0*(1 + 1/z)/(1 - 1/z))"
     },
     "execution_count": 142,
     "metadata": {},
     "output_type": "execute_result"
    }
   ],
   "source": [
    "import sympy as sym\r\n",
    "s = sym.symbols(\"s\")\r\n",
    "z = sym.symbols(\"z\")\r\n",
    "T = 0.1/1000\r\n",
    "\r\n",
    "\r\n",
    "Hz = 6/(3*s-9)\r\n",
    "Hz.subs(s,((2/T)/((1-z**-1)/(1+z**-1))))"
   ]
  },
  {
   "cell_type": "code",
   "execution_count": null,
   "metadata": {},
   "outputs": [],
   "source": []
  }
 ],
 "metadata": {
  "kernelspec": {
   "display_name": "Python 3",
   "language": "python",
   "name": "python3"
  },
  "language_info": {
   "codemirror_mode": {
    "name": "ipython",
    "version": 3
   },
   "file_extension": ".py",
   "mimetype": "text/x-python",
   "name": "python",
   "nbconvert_exporter": "python",
   "pygments_lexer": "ipython3",
   "version": "3.8.2"
  },
  "orig_nbformat": 2
 },
 "nbformat": 4,
 "nbformat_minor": 2
}